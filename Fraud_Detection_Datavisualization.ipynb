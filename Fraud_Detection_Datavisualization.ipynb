{
 "cells": [
  {
   "cell_type": "code",
   "execution_count": null,
   "id": "bf1fba9a-06e5-4b6d-b161-2dabcd549eb1",
   "metadata": {},
   "outputs": [],
   "source": [
    "!pip install --upgrade pip\n",
    "!pip install fosforml numpy pandas matplotlib scikit-learn seaborn python-dateutil\n",
    "!pip uninstall urllib3 -y\n",
    "!pip install urllib3==1.26.15\n",
    "!pip install fosforml \n",
    "!pip install fosforio\n",
    "!pip install -U cloudpickle"
   ]
  },
  {
   "cell_type": "code",
   "execution_count": 1,
   "id": "ba7cfc88-a8fe-49ca-953e-6bc4c10f8593",
   "metadata": {},
   "outputs": [
    {
     "name": "stdout",
     "output_type": "stream",
     "text": [
      "Connection manager service url initialised to http://fdc-project-manager:80/project-manager\n",
      "If you need to update its value then update the variable CONNECTION_MANAGER_BASE_URL in os env.\n"
     ]
    }
   ],
   "source": [
    "from snowflake.snowpark import Session\n",
    "\n",
    "# Data Science Libs\n",
    "import numpy as np\n",
    "import pandas as pd\n",
    "import statsmodels\n",
    "import matplotlib.pyplot as plt\n",
    "import seaborn as sns\n",
    "\n",
    "# create_temp_table warning suppresion\n",
    "import warnings; warnings.simplefilter('ignore')\n",
    "\n",
    "import plotly.express as px\n",
    "from plotly.subplots import make_subplots\n",
    "import plotly.figure_factory as ff\n",
    "\n",
    "from fosforio import snowflake"
   ]
  },
  {
   "cell_type": "code",
   "execution_count": 3,
   "id": "e0168d48-1733-4dbb-b837-abc977e7a23e",
   "metadata": {},
   "outputs": [],
   "source": [
    "from snowflake.snowpark import Session\n",
    "from snowflake.connector.pandas_tools import write_pandas\n",
    "\n",
    "# Data Science Libs\n",
    "import numpy as np\n",
    "import pandas as pd\n",
    "import matplotlib.pyplot as plt\n",
    "import seaborn as sns\n",
    "\n",
    "# create_temp_table warning suppresion\n",
    "import warnings; warnings.simplefilter('ignore')"
   ]
  },
  {
   "cell_type": "code",
   "execution_count": 4,
   "id": "bac9abc4-9cf7-462f-a363-6d86f8a681a0",
   "metadata": {},
   "outputs": [],
   "source": [
    "from fosforml.model_manager.snowflakesession import get_session\n",
    "\n",
    "my_session = get_session()"
   ]
  },
  {
   "cell_type": "code",
   "execution_count": 5,
   "id": "c7364fcc-32d8-4d39-ad64-ee79a7ec667e",
   "metadata": {},
   "outputs": [],
   "source": [
    "df = 'FRAUD_DETECTION_ANALY_MASTER_TABLE'"
   ]
  },
  {
   "cell_type": "code",
   "execution_count": 6,
   "id": "115b17f9-cf01-4219-86ce-80ad410037e5",
   "metadata": {},
   "outputs": [],
   "source": [
    "sf_df = my_session.sql(\"select * from {}\".format(df))"
   ]
  },
  {
   "cell_type": "code",
   "execution_count": 7,
   "id": "5ab9e762-1046-4f86-944d-371f08e68e31",
   "metadata": {},
   "outputs": [],
   "source": [
    "import pandas as pd\n",
    "fraud_df = sf_df.to_pandas()"
   ]
  },
  {
   "cell_type": "code",
   "execution_count": 9,
   "id": "9db24fe3-eafd-4052-996b-8a1d7fa2e838",
   "metadata": {},
   "outputs": [],
   "source": [
    "Fraud_Detection = fraud_df.copy()"
   ]
  },
  {
   "cell_type": "code",
   "execution_count": 11,
   "id": "3025b4b5-48df-4067-82e9-d92c66297119",
   "metadata": {},
   "outputs": [
    {
     "data": {
      "text/plain": [
       "Index(['CREDIT_LIMIT', 'ACCOUNT_OPENING_DATE', 'LAST_LOGIN',\n",
       "       'CUSTOMER_SEGMENT', 'ACCOUNT_TYPE', 'DEVICE_USED', 'NAME', 'GENDER',\n",
       "       'DOB', 'AGE', 'CUSTOMER_ID', 'AGE_GROUP', 'AGE_OF_ACCOUNT',\n",
       "       'FREQUENCY_OF_TRANSACTIONS', 'CUSTOMER_LOYALTY_SCORE',\n",
       "       'NUMBER_OF_REFUNDS', 'NUMBER_OF_CHARGEBACKS',\n",
       "       'CREDIT_UTILIZATION_RATIO', 'CHANGE_IN_SPENDING_BEHAVIOR',\n",
       "       'TRANSACTION_VELOCITY', 'CUSTOMER_LOYALTY_CATEGORY',\n",
       "       'TIME_SINCE_LAST_TRANSACTION', 'TRANSACTION_ID', 'TIME',\n",
       "       'TRANSACTION_AMOUNT', 'MERCHANT_RISK_SCORE',\n",
       "       'DISTANCE_FROM_HOME_ADDRESS', 'DISTANCE_FROM_LAST_TRANSACTION',\n",
       "       'TRANSACTION_DATE', 'TRANSACTION_TYPE', 'MERCHANT_CATEGORY',\n",
       "       'PAYMENT_METHOD', 'TIME_OF_DAY', 'DAY_OF_WEEK', 'TRANSACTION_STATUS',\n",
       "       'COUNTY', 'STATE', 'CITY', 'YEAR', 'QUARTER', 'MONTH', 'ANOMALY_SCORE',\n",
       "       'FRAUD_INDICATOR', 'SUSPICIOUS_FLAG', 'PREVIOUS_FRAUD_REPORTS',\n",
       "       'CROSS_BORDER_TRANSACTION_INDICATOR', 'NEW_DEVICE_INDICATOR',\n",
       "       'ANAMOLY_RISK_CATEGORY', 'MERCHANT_RISK_CATEGORY', 'FRAUD_FLAG'],\n",
       "      dtype='object')"
      ]
     },
     "execution_count": 11,
     "metadata": {},
     "output_type": "execute_result"
    }
   ],
   "source": [
    "Fraud_Detection.columns"
   ]
  },
  {
   "cell_type": "code",
   "execution_count": 13,
   "id": "c5a30ed4-b062-468a-99f5-008528970d1f",
   "metadata": {},
   "outputs": [],
   "source": [
    "### changing Incident date into datetime format\n",
    "Fraud_Detection['TRANSACTION_DATE']=pd.to_datetime(Fraud_Detection['TRANSACTION_DATE'],format='%Y-%m-%d')\n",
    "\n",
    "### changing auto_year date into datetime format\n",
    "Fraud_Detection['YEAR']=pd.to_datetime(Fraud_Detection['YEAR'],format='%Y')"
   ]
  },
  {
   "cell_type": "code",
   "execution_count": 14,
   "id": "9628642e-7803-47f6-a4ee-4f10c2352ea7",
   "metadata": {},
   "outputs": [],
   "source": [
    "### Intialize \"count\" column\n",
    "\n",
    "Fraud_Detection['count']=1"
   ]
  },
  {
   "cell_type": "code",
   "execution_count": 19,
   "id": "7d8dd352-2ffb-4cba-b047-ec68bb79ed13",
   "metadata": {},
   "outputs": [],
   "source": [
    "#plt.figure(figsize=[5,4])\n",
    "fig = px.pie(Fraud_Detection,names='FRAUD_INDICATOR')\n",
    "fig.write_html(\"data/EDA/Fraud_Detection_Pie_Distribution.html\")"
   ]
  },
  {
   "cell_type": "code",
   "execution_count": 21,
   "id": "c3d0a4cb-4241-4fb8-ad82-69349a7f7465",
   "metadata": {},
   "outputs": [
    {
     "data": {
      "text/html": [
       "<div>\n",
       "<style scoped>\n",
       "    .dataframe tbody tr th:only-of-type {\n",
       "        vertical-align: middle;\n",
       "    }\n",
       "\n",
       "    .dataframe tbody tr th {\n",
       "        vertical-align: top;\n",
       "    }\n",
       "\n",
       "    .dataframe thead th {\n",
       "        text-align: right;\n",
       "    }\n",
       "</style>\n",
       "<table border=\"1\" class=\"dataframe\">\n",
       "  <thead>\n",
       "    <tr style=\"text-align: right;\">\n",
       "      <th></th>\n",
       "      <th>GENDER</th>\n",
       "      <th>FRAUD_INDICATOR</th>\n",
       "      <th>count</th>\n",
       "    </tr>\n",
       "  </thead>\n",
       "  <tbody>\n",
       "    <tr>\n",
       "      <th>0</th>\n",
       "      <td>Female</td>\n",
       "      <td>0</td>\n",
       "      <td>141546</td>\n",
       "    </tr>\n",
       "    <tr>\n",
       "      <th>1</th>\n",
       "      <td>Female</td>\n",
       "      <td>1</td>\n",
       "      <td>8144</td>\n",
       "    </tr>\n",
       "    <tr>\n",
       "      <th>2</th>\n",
       "      <td>Male</td>\n",
       "      <td>0</td>\n",
       "      <td>142331</td>\n",
       "    </tr>\n",
       "    <tr>\n",
       "      <th>3</th>\n",
       "      <td>Male</td>\n",
       "      <td>1</td>\n",
       "      <td>7979</td>\n",
       "    </tr>\n",
       "  </tbody>\n",
       "</table>\n",
       "</div>"
      ],
      "text/plain": [
       "   GENDER  FRAUD_INDICATOR   count\n",
       "0  Female                0  141546\n",
       "1  Female                1    8144\n",
       "2    Male                0  142331\n",
       "3    Male                1    7979"
      ]
     },
     "execution_count": 21,
     "metadata": {},
     "output_type": "execute_result"
    }
   ],
   "source": [
    "groupdf_is = Fraud_Detection.groupby(by=['GENDER', 'FRAUD_INDICATOR']).count()\n",
    "groupdf_is.reset_index(inplace=True)\n",
    "groupdf_is = groupdf_is[['GENDER', 'FRAUD_INDICATOR', 'count']]\n",
    "groupdf_is.head()"
   ]
  },
  {
   "cell_type": "code",
   "execution_count": 22,
   "id": "7cc35a70-8d48-41c7-9c4b-5526226458ba",
   "metadata": {},
   "outputs": [],
   "source": [
    "fig=px.bar(groupdf_is,x='GENDER',y='count',color='FRAUD_INDICATOR',text='count',pattern_shape_sequence=['|','/'],pattern_shape='FRAUD_INDICATOR')\n",
    "fig.write_html(\"data/EDA/Gender_vs_Fraudreported.html\")"
   ]
  },
  {
   "cell_type": "code",
   "execution_count": 24,
   "id": "67e68473-9709-4ddd-92a1-a32f94ab90df",
   "metadata": {},
   "outputs": [
    {
     "data": {
      "text/html": [
       "<div>\n",
       "<style scoped>\n",
       "    .dataframe tbody tr th:only-of-type {\n",
       "        vertical-align: middle;\n",
       "    }\n",
       "\n",
       "    .dataframe tbody tr th {\n",
       "        vertical-align: top;\n",
       "    }\n",
       "\n",
       "    .dataframe thead th {\n",
       "        text-align: right;\n",
       "    }\n",
       "</style>\n",
       "<table border=\"1\" class=\"dataframe\">\n",
       "  <thead>\n",
       "    <tr style=\"text-align: right;\">\n",
       "      <th></th>\n",
       "      <th>CREDIT_LIMIT</th>\n",
       "      <th>FRAUD_INDICATOR</th>\n",
       "      <th>count</th>\n",
       "    </tr>\n",
       "  </thead>\n",
       "  <tbody>\n",
       "    <tr>\n",
       "      <th>0</th>\n",
       "      <td>5000</td>\n",
       "      <td>0</td>\n",
       "      <td>35322</td>\n",
       "    </tr>\n",
       "    <tr>\n",
       "      <th>1</th>\n",
       "      <td>5000</td>\n",
       "      <td>1</td>\n",
       "      <td>2048</td>\n",
       "    </tr>\n",
       "    <tr>\n",
       "      <th>2</th>\n",
       "      <td>10000</td>\n",
       "      <td>0</td>\n",
       "      <td>35442</td>\n",
       "    </tr>\n",
       "  </tbody>\n",
       "</table>\n",
       "</div>"
      ],
      "text/plain": [
       "   CREDIT_LIMIT  FRAUD_INDICATOR  count\n",
       "0          5000                0  35322\n",
       "1          5000                1   2048\n",
       "2         10000                0  35442"
      ]
     },
     "execution_count": 24,
     "metadata": {},
     "output_type": "execute_result"
    }
   ],
   "source": [
    "groupdf_uu = Fraud_Detection.groupby(by=['CREDIT_LIMIT', 'FRAUD_INDICATOR']).count()\n",
    "groupdf_uu.reset_index(inplace=True)\n",
    "groupdf_uu = groupdf_uu[['CREDIT_LIMIT', 'FRAUD_INDICATOR', 'count']]\n",
    "groupdf_uu.head(3)\n"
   ]
  },
  {
   "cell_type": "code",
   "execution_count": 25,
   "id": "5d9a993d-a65a-488d-ade8-70e97b6521b5",
   "metadata": {},
   "outputs": [],
   "source": [
    "fig=px.bar(groupdf_uu,x='CREDIT_LIMIT',y='count',color='FRAUD_INDICATOR',text='count')\n",
    "fig.write_html(\"data/EDA/creditLimit_vs_Fraudreported.html\")"
   ]
  },
  {
   "cell_type": "code",
   "execution_count": 28,
   "id": "bf645cf5-709e-449d-b1fc-415b674ffdec",
   "metadata": {},
   "outputs": [
    {
     "data": {
      "text/html": [
       "<div>\n",
       "<style scoped>\n",
       "    .dataframe tbody tr th:only-of-type {\n",
       "        vertical-align: middle;\n",
       "    }\n",
       "\n",
       "    .dataframe tbody tr th {\n",
       "        vertical-align: top;\n",
       "    }\n",
       "\n",
       "    .dataframe thead th {\n",
       "        text-align: right;\n",
       "    }\n",
       "</style>\n",
       "<table border=\"1\" class=\"dataframe\">\n",
       "  <thead>\n",
       "    <tr style=\"text-align: right;\">\n",
       "      <th></th>\n",
       "      <th>CUSTOMER_LOYALTY_CATEGORY</th>\n",
       "      <th>FRAUD_INDICATOR</th>\n",
       "      <th>count</th>\n",
       "    </tr>\n",
       "  </thead>\n",
       "  <tbody>\n",
       "    <tr>\n",
       "      <th>0</th>\n",
       "      <td>High Loyalty</td>\n",
       "      <td>0</td>\n",
       "      <td>71399</td>\n",
       "    </tr>\n",
       "    <tr>\n",
       "      <th>1</th>\n",
       "      <td>High Loyalty</td>\n",
       "      <td>1</td>\n",
       "      <td>4114</td>\n",
       "    </tr>\n",
       "    <tr>\n",
       "      <th>2</th>\n",
       "      <td>Low Loyalty</td>\n",
       "      <td>0</td>\n",
       "      <td>72395</td>\n",
       "    </tr>\n",
       "    <tr>\n",
       "      <th>3</th>\n",
       "      <td>Low Loyalty</td>\n",
       "      <td>1</td>\n",
       "      <td>3955</td>\n",
       "    </tr>\n",
       "    <tr>\n",
       "      <th>4</th>\n",
       "      <td>Medium Loyalty</td>\n",
       "      <td>0</td>\n",
       "      <td>70548</td>\n",
       "    </tr>\n",
       "  </tbody>\n",
       "</table>\n",
       "</div>"
      ],
      "text/plain": [
       "  CUSTOMER_LOYALTY_CATEGORY  FRAUD_INDICATOR  count\n",
       "0              High Loyalty                0  71399\n",
       "1              High Loyalty                1   4114\n",
       "2               Low Loyalty                0  72395\n",
       "3               Low Loyalty                1   3955\n",
       "4            Medium Loyalty                0  70548"
      ]
     },
     "execution_count": 28,
     "metadata": {},
     "output_type": "execute_result"
    }
   ],
   "source": [
    "groupdf_el = Fraud_Detection.groupby(by=['CUSTOMER_LOYALTY_CATEGORY', 'FRAUD_INDICATOR']).count()\n",
    "groupdf_el.reset_index(inplace=True)\n",
    "groupdf_el = groupdf_el[['CUSTOMER_LOYALTY_CATEGORY', 'FRAUD_INDICATOR', 'count']]\n",
    "groupdf_el.head()"
   ]
  },
  {
   "cell_type": "code",
   "execution_count": 31,
   "id": "c5daeda7-54e0-4dea-b128-bce48cbdc557",
   "metadata": {},
   "outputs": [
    {
     "data": {
      "text/html": [
       "<div>\n",
       "<style scoped>\n",
       "    .dataframe tbody tr th:only-of-type {\n",
       "        vertical-align: middle;\n",
       "    }\n",
       "\n",
       "    .dataframe tbody tr th {\n",
       "        vertical-align: top;\n",
       "    }\n",
       "\n",
       "    .dataframe thead th {\n",
       "        text-align: right;\n",
       "    }\n",
       "</style>\n",
       "<table border=\"1\" class=\"dataframe\">\n",
       "  <thead>\n",
       "    <tr style=\"text-align: right;\">\n",
       "      <th></th>\n",
       "      <th>CUSTOMER_SEGMENT</th>\n",
       "      <th>FRAUD_FLAG</th>\n",
       "      <th>count</th>\n",
       "    </tr>\n",
       "  </thead>\n",
       "  <tbody>\n",
       "    <tr>\n",
       "      <th>0</th>\n",
       "      <td>Business</td>\n",
       "      <td>No</td>\n",
       "      <td>70790</td>\n",
       "    </tr>\n",
       "    <tr>\n",
       "      <th>1</th>\n",
       "      <td>Business</td>\n",
       "      <td>Yes</td>\n",
       "      <td>4021</td>\n",
       "    </tr>\n",
       "    <tr>\n",
       "      <th>2</th>\n",
       "      <td>Individual</td>\n",
       "      <td>No</td>\n",
       "      <td>71129</td>\n",
       "    </tr>\n",
       "    <tr>\n",
       "      <th>3</th>\n",
       "      <td>Individual</td>\n",
       "      <td>Yes</td>\n",
       "      <td>4106</td>\n",
       "    </tr>\n",
       "    <tr>\n",
       "      <th>4</th>\n",
       "      <td>Senior</td>\n",
       "      <td>No</td>\n",
       "      <td>70979</td>\n",
       "    </tr>\n",
       "  </tbody>\n",
       "</table>\n",
       "</div>"
      ],
      "text/plain": [
       "  CUSTOMER_SEGMENT FRAUD_FLAG  count\n",
       "0         Business         No  70790\n",
       "1         Business        Yes   4021\n",
       "2       Individual         No  71129\n",
       "3       Individual        Yes   4106\n",
       "4           Senior         No  70979"
      ]
     },
     "execution_count": 31,
     "metadata": {},
     "output_type": "execute_result"
    }
   ],
   "source": [
    "groupdf_ic = Fraud_Detection.groupby(by=['CUSTOMER_SEGMENT', 'FRAUD_FLAG']).count()\n",
    "groupdf_ic.reset_index(inplace=True)\n",
    "groupdf_ic = groupdf_ic[['CUSTOMER_SEGMENT', 'FRAUD_FLAG', 'count']]\n",
    "groupdf_ic.head()\n"
   ]
  },
  {
   "cell_type": "code",
   "execution_count": 32,
   "id": "7f332509-cc8d-4b78-bb25-e3c47cdbe5ea",
   "metadata": {},
   "outputs": [],
   "source": [
    "fig=px.bar(groupdf_ic, x='CUSTOMER_SEGMENT', y='count', color='FRAUD_FLAG', text='count', title='Number of Claims by Different Customer Segments')\n",
    "fig.write_html(\"data/EDA/CustomerSegment_vs_FraudClaims.html\")\n"
   ]
  },
  {
   "cell_type": "code",
   "execution_count": 34,
   "id": "fed777fd-2a42-489a-8ce9-8756b4a8da41",
   "metadata": {},
   "outputs": [
    {
     "data": {
      "text/html": [
       "<div>\n",
       "<style scoped>\n",
       "    .dataframe tbody tr th:only-of-type {\n",
       "        vertical-align: middle;\n",
       "    }\n",
       "\n",
       "    .dataframe tbody tr th {\n",
       "        vertical-align: top;\n",
       "    }\n",
       "\n",
       "    .dataframe thead th {\n",
       "        text-align: right;\n",
       "    }\n",
       "</style>\n",
       "<table border=\"1\" class=\"dataframe\">\n",
       "  <thead>\n",
       "    <tr style=\"text-align: right;\">\n",
       "      <th></th>\n",
       "      <th>CUSTOMER_LOYALTY_CATEGORY</th>\n",
       "      <th>FRAUD_FLAG</th>\n",
       "      <th>count</th>\n",
       "    </tr>\n",
       "  </thead>\n",
       "  <tbody>\n",
       "    <tr>\n",
       "      <th>0</th>\n",
       "      <td>High Loyalty</td>\n",
       "      <td>No</td>\n",
       "      <td>71399</td>\n",
       "    </tr>\n",
       "    <tr>\n",
       "      <th>1</th>\n",
       "      <td>High Loyalty</td>\n",
       "      <td>Yes</td>\n",
       "      <td>4114</td>\n",
       "    </tr>\n",
       "    <tr>\n",
       "      <th>2</th>\n",
       "      <td>Low Loyalty</td>\n",
       "      <td>No</td>\n",
       "      <td>72395</td>\n",
       "    </tr>\n",
       "    <tr>\n",
       "      <th>3</th>\n",
       "      <td>Low Loyalty</td>\n",
       "      <td>Yes</td>\n",
       "      <td>3955</td>\n",
       "    </tr>\n",
       "    <tr>\n",
       "      <th>4</th>\n",
       "      <td>Medium Loyalty</td>\n",
       "      <td>No</td>\n",
       "      <td>70548</td>\n",
       "    </tr>\n",
       "  </tbody>\n",
       "</table>\n",
       "</div>"
      ],
      "text/plain": [
       "  CUSTOMER_LOYALTY_CATEGORY FRAUD_FLAG  count\n",
       "0              High Loyalty         No  71399\n",
       "1              High Loyalty        Yes   4114\n",
       "2               Low Loyalty         No  72395\n",
       "3               Low Loyalty        Yes   3955\n",
       "4            Medium Loyalty         No  70548"
      ]
     },
     "execution_count": 34,
     "metadata": {},
     "output_type": "execute_result"
    }
   ],
   "source": [
    "groupdf_h = Fraud_Detection.groupby(by=['CUSTOMER_LOYALTY_CATEGORY', 'FRAUD_FLAG']).count()\n",
    "groupdf_h.reset_index(inplace=True)\n",
    "groupdf_h = groupdf_h[['CUSTOMER_LOYALTY_CATEGORY', 'FRAUD_FLAG', 'count']]\n",
    "groupdf_h.head()\n"
   ]
  },
  {
   "cell_type": "code",
   "execution_count": 35,
   "id": "bab78fc7-bd7b-4a91-928b-0ce841d0abfa",
   "metadata": {},
   "outputs": [],
   "source": [
    "fig=px.bar(groupdf_h,x='CUSTOMER_LOYALTY_CATEGORY',y='count',color='FRAUD_FLAG',text='count',title=\"loyalty Wise claim\")\n",
    "fig.write_html(\"data/EDA/customerloyaltycatgy_vs_Fraudreported.html\")"
   ]
  },
  {
   "cell_type": "code",
   "execution_count": 36,
   "id": "e53ae141-ec44-4d0d-8ec5-62aa55475f8d",
   "metadata": {},
   "outputs": [
    {
     "data": {
      "text/html": [
       "<div>\n",
       "<style scoped>\n",
       "    .dataframe tbody tr th:only-of-type {\n",
       "        vertical-align: middle;\n",
       "    }\n",
       "\n",
       "    .dataframe tbody tr th {\n",
       "        vertical-align: top;\n",
       "    }\n",
       "\n",
       "    .dataframe thead th {\n",
       "        text-align: right;\n",
       "    }\n",
       "</style>\n",
       "<table border=\"1\" class=\"dataframe\">\n",
       "  <thead>\n",
       "    <tr style=\"text-align: right;\">\n",
       "      <th></th>\n",
       "      <th>AGE_GROUP</th>\n",
       "      <th>FRAUD_FLAG</th>\n",
       "      <th>count</th>\n",
       "    </tr>\n",
       "  </thead>\n",
       "  <tbody>\n",
       "    <tr>\n",
       "      <th>0</th>\n",
       "      <td>Adult</td>\n",
       "      <td>No</td>\n",
       "      <td>67720</td>\n",
       "    </tr>\n",
       "    <tr>\n",
       "      <th>1</th>\n",
       "      <td>Adult</td>\n",
       "      <td>Yes</td>\n",
       "      <td>3830</td>\n",
       "    </tr>\n",
       "    <tr>\n",
       "      <th>2</th>\n",
       "      <td>Senior</td>\n",
       "      <td>No</td>\n",
       "      <td>136736</td>\n",
       "    </tr>\n",
       "    <tr>\n",
       "      <th>3</th>\n",
       "      <td>Senior</td>\n",
       "      <td>Yes</td>\n",
       "      <td>7804</td>\n",
       "    </tr>\n",
       "    <tr>\n",
       "      <th>4</th>\n",
       "      <td>Teenager</td>\n",
       "      <td>No</td>\n",
       "      <td>2650</td>\n",
       "    </tr>\n",
       "  </tbody>\n",
       "</table>\n",
       "</div>"
      ],
      "text/plain": [
       "  AGE_GROUP FRAUD_FLAG   count\n",
       "0     Adult         No   67720\n",
       "1     Adult        Yes    3830\n",
       "2    Senior         No  136736\n",
       "3    Senior        Yes    7804\n",
       "4  Teenager         No    2650"
      ]
     },
     "execution_count": 36,
     "metadata": {},
     "output_type": "execute_result"
    }
   ],
   "source": [
    "groupdf_rl = Fraud_Detection.groupby(by=['AGE_GROUP', 'FRAUD_FLAG']).count()\n",
    "groupdf_rl.reset_index(inplace=True)\n",
    "groupdf_rl = groupdf_rl[['AGE_GROUP', 'FRAUD_FLAG', 'count']]\n",
    "groupdf_rl.head()\n"
   ]
  },
  {
   "cell_type": "code",
   "execution_count": 37,
   "id": "451ebcd4-86fd-4fee-b581-002c2014bad2",
   "metadata": {},
   "outputs": [],
   "source": [
    "fig=px.bar(groupdf_rl,x='AGE_GROUP',y='count',color='FRAUD_FLAG',text='count')\n",
    "fig.write_html(\"data/EDA/AgeGroup_vs_Fraudreported.html\")"
   ]
  },
  {
   "cell_type": "code",
   "execution_count": 40,
   "id": "6f698d91-2a31-43fd-a841-3120f5e79439",
   "metadata": {},
   "outputs": [
    {
     "data": {
      "text/html": [
       "<div>\n",
       "<style scoped>\n",
       "    .dataframe tbody tr th:only-of-type {\n",
       "        vertical-align: middle;\n",
       "    }\n",
       "\n",
       "    .dataframe tbody tr th {\n",
       "        vertical-align: top;\n",
       "    }\n",
       "\n",
       "    .dataframe thead th {\n",
       "        text-align: right;\n",
       "    }\n",
       "</style>\n",
       "<table border=\"1\" class=\"dataframe\">\n",
       "  <thead>\n",
       "    <tr style=\"text-align: right;\">\n",
       "      <th></th>\n",
       "      <th>MERCHANT_CATEGORY</th>\n",
       "      <th>FRAUD_FLAG</th>\n",
       "      <th>count</th>\n",
       "    </tr>\n",
       "  </thead>\n",
       "  <tbody>\n",
       "    <tr>\n",
       "      <th>0</th>\n",
       "      <td>Apparel</td>\n",
       "      <td>No</td>\n",
       "      <td>35700</td>\n",
       "    </tr>\n",
       "    <tr>\n",
       "      <th>1</th>\n",
       "      <td>Apparel</td>\n",
       "      <td>Yes</td>\n",
       "      <td>1991</td>\n",
       "    </tr>\n",
       "    <tr>\n",
       "      <th>2</th>\n",
       "      <td>Electronics</td>\n",
       "      <td>No</td>\n",
       "      <td>35604</td>\n",
       "    </tr>\n",
       "    <tr>\n",
       "      <th>3</th>\n",
       "      <td>Electronics</td>\n",
       "      <td>Yes</td>\n",
       "      <td>2012</td>\n",
       "    </tr>\n",
       "    <tr>\n",
       "      <th>4</th>\n",
       "      <td>Entertainment</td>\n",
       "      <td>No</td>\n",
       "      <td>35409</td>\n",
       "    </tr>\n",
       "  </tbody>\n",
       "</table>\n",
       "</div>"
      ],
      "text/plain": [
       "  MERCHANT_CATEGORY FRAUD_FLAG  count\n",
       "0           Apparel         No  35700\n",
       "1           Apparel        Yes   1991\n",
       "2       Electronics         No  35604\n",
       "3       Electronics        Yes   2012\n",
       "4     Entertainment         No  35409"
      ]
     },
     "execution_count": 40,
     "metadata": {},
     "output_type": "execute_result"
    }
   ],
   "source": [
    "groupdf_it=Fraud_Detection.groupby(by=['MERCHANT_CATEGORY','FRAUD_FLAG']).count()\n",
    "groupdf_it.reset_index(inplace=True)\n",
    "groupdf_it=groupdf_it[['MERCHANT_CATEGORY','FRAUD_FLAG','count']]\n",
    "groupdf_it.head()"
   ]
  },
  {
   "cell_type": "code",
   "execution_count": 42,
   "id": "031e00fc-8a82-432d-a7f8-b942f680e6ab",
   "metadata": {},
   "outputs": [],
   "source": [
    "fig=px.bar(groupdf_it,x='MERCHANT_CATEGORY',y='count',color='FRAUD_FLAG',text='count',title=\"merchant category vs fraud flag\")\n",
    "fig.write_html(\"data/EDA/merchantcatg_vs_Fraudreported.html\")"
   ]
  },
  {
   "cell_type": "code",
   "execution_count": 45,
   "id": "f4d251ec-31a4-4bab-a6a7-508c84ea5af7",
   "metadata": {},
   "outputs": [
    {
     "data": {
      "text/html": [
       "<div>\n",
       "<style scoped>\n",
       "    .dataframe tbody tr th:only-of-type {\n",
       "        vertical-align: middle;\n",
       "    }\n",
       "\n",
       "    .dataframe tbody tr th {\n",
       "        vertical-align: top;\n",
       "    }\n",
       "\n",
       "    .dataframe thead th {\n",
       "        text-align: right;\n",
       "    }\n",
       "</style>\n",
       "<table border=\"1\" class=\"dataframe\">\n",
       "  <thead>\n",
       "    <tr style=\"text-align: right;\">\n",
       "      <th></th>\n",
       "      <th>CUSTOMER_SEGMENT</th>\n",
       "      <th>Fraud percentage</th>\n",
       "    </tr>\n",
       "  </thead>\n",
       "  <tbody>\n",
       "    <tr>\n",
       "      <th>0</th>\n",
       "      <td>Business</td>\n",
       "      <td>5.37%</td>\n",
       "    </tr>\n",
       "    <tr>\n",
       "      <th>1</th>\n",
       "      <td>Individual</td>\n",
       "      <td>5.46%</td>\n",
       "    </tr>\n",
       "    <tr>\n",
       "      <th>2</th>\n",
       "      <td>Senior</td>\n",
       "      <td>5.36%</td>\n",
       "    </tr>\n",
       "    <tr>\n",
       "      <th>3</th>\n",
       "      <td>Student</td>\n",
       "      <td>5.3%</td>\n",
       "    </tr>\n",
       "  </tbody>\n",
       "</table>\n",
       "</div>"
      ],
      "text/plain": [
       "  CUSTOMER_SEGMENT Fraud percentage\n",
       "0         Business            5.37%\n",
       "1       Individual            5.46%\n",
       "2           Senior            5.36%\n",
       "3          Student             5.3%"
      ]
     },
     "execution_count": 45,
     "metadata": {},
     "output_type": "execute_result"
    }
   ],
   "source": [
    "grp1 = Fraud_Detection.groupby(['CUSTOMER_SEGMENT'])['FRAUD_INDICATOR'].mean()\n",
    "grp1 = pd.DataFrame(grp1)\n",
    "grp1.reset_index(inplace=True)\n",
    "grp1['FRAUD_INDICATOR'] = grp1['FRAUD_INDICATOR'].apply(lambda x: 100 * x)\n",
    "grp1['FRAUD_INDICATOR'] = grp1['FRAUD_INDICATOR'].apply(lambda x: round(x, 2))\n",
    "grp1['FRAUD_INDICATOR'] = grp1['FRAUD_INDICATOR'].apply(lambda x: \"{}{}\".format(x, '%'))\n",
    "grp1.rename(columns={'FRAUD_INDICATOR': 'Fraud percentage'}, inplace=True)\n",
    "grp1.head(10)\n"
   ]
  },
  {
   "cell_type": "code",
   "execution_count": 46,
   "id": "a6138629-e6a1-497d-87c6-c973bf26c04c",
   "metadata": {},
   "outputs": [],
   "source": [
    "fig=px.bar(grp1,x='CUSTOMER_SEGMENT',y='Fraud percentage',color='CUSTOMER_SEGMENT',log_y=True,title='Fraud percentage:segmet wise',text='Fraud percentage')\n",
    "fig.update_traces(textposition='outside')\n",
    "fig.write_html(\"data/EDA/segmentwise_vs_FraudPercentage.html\")"
   ]
  },
  {
   "cell_type": "code",
   "execution_count": 48,
   "id": "b9346860-6790-48b1-957c-3dc6868a2009",
   "metadata": {},
   "outputs": [
    {
     "data": {
      "text/html": [
       "<div>\n",
       "<style scoped>\n",
       "    .dataframe tbody tr th:only-of-type {\n",
       "        vertical-align: middle;\n",
       "    }\n",
       "\n",
       "    .dataframe tbody tr th {\n",
       "        vertical-align: top;\n",
       "    }\n",
       "\n",
       "    .dataframe thead th {\n",
       "        text-align: right;\n",
       "    }\n",
       "</style>\n",
       "<table border=\"1\" class=\"dataframe\">\n",
       "  <thead>\n",
       "    <tr style=\"text-align: right;\">\n",
       "      <th></th>\n",
       "      <th>DEVICE_USED</th>\n",
       "      <th>Fraud percentage</th>\n",
       "    </tr>\n",
       "  </thead>\n",
       "  <tbody>\n",
       "    <tr>\n",
       "      <th>0</th>\n",
       "      <td>Desktop</td>\n",
       "      <td>5.4%</td>\n",
       "    </tr>\n",
       "    <tr>\n",
       "      <th>1</th>\n",
       "      <td>Laptop</td>\n",
       "      <td>5.48%</td>\n",
       "    </tr>\n",
       "    <tr>\n",
       "      <th>2</th>\n",
       "      <td>Mobile</td>\n",
       "      <td>5.36%</td>\n",
       "    </tr>\n",
       "    <tr>\n",
       "      <th>3</th>\n",
       "      <td>Other</td>\n",
       "      <td>5.18%</td>\n",
       "    </tr>\n",
       "    <tr>\n",
       "      <th>4</th>\n",
       "      <td>Tablet</td>\n",
       "      <td>5.44%</td>\n",
       "    </tr>\n",
       "  </tbody>\n",
       "</table>\n",
       "</div>"
      ],
      "text/plain": [
       "  DEVICE_USED Fraud percentage\n",
       "0     Desktop             5.4%\n",
       "1      Laptop            5.48%\n",
       "2      Mobile            5.36%\n",
       "3       Other            5.18%\n",
       "4      Tablet            5.44%"
      ]
     },
     "execution_count": 48,
     "metadata": {},
     "output_type": "execute_result"
    }
   ],
   "source": [
    "grp2=Fraud_Detection.groupby(['DEVICE_USED'])['FRAUD_INDICATOR'].mean()\n",
    "grp2=pd.DataFrame(grp2)\n",
    "grp2.reset_index(inplace=True)\n",
    "grp2['FRAUD_INDICATOR']=grp2['FRAUD_INDICATOR'].apply(lambda x: 100*x)\n",
    "grp2['FRAUD_INDICATOR']=grp2['FRAUD_INDICATOR'].apply(lambda x: round(x,2))\n",
    "grp2['FRAUD_INDICATOR'] = grp2['FRAUD_INDICATOR'].apply(lambda x: \"{}{}\".format(x,'%'))\n",
    "grp2.rename(columns={'FRAUD_INDICATOR':'Fraud percentage'},inplace=True)\n",
    "grp2.head()"
   ]
  },
  {
   "cell_type": "code",
   "execution_count": 49,
   "id": "ebde4961-af65-4552-80da-53ab482a4492",
   "metadata": {},
   "outputs": [],
   "source": [
    "fig=px.bar(grp2,x='DEVICE_USED',y='Fraud percentage',color='DEVICE_USED',log_y=True,title='Fraud percentage:Device used',text='Fraud percentage')\n",
    "fig.update_traces(textposition='outside')\n",
    "fig.write_html(\"data/EDA/DeviceUsed_vs_FraudPercentage.html\")"
   ]
  },
  {
   "cell_type": "code",
   "execution_count": 51,
   "id": "55ebd410-2867-410c-8601-373ebb07fb9f",
   "metadata": {},
   "outputs": [],
   "source": [
    "fig = px.sunburst(Fraud_Detection, path=['DEVICE_USED', 'ACCOUNT_TYPE'])\n",
    "fig.write_html(\"data/EDA/DeviceUsed_vs_Accounttype.html\")\n"
   ]
  },
  {
   "cell_type": "code",
   "execution_count": 53,
   "id": "7fd24f51-b6ae-4619-9ec9-3f4273833663",
   "metadata": {},
   "outputs": [],
   "source": [
    "fig = px.treemap(Fraud_Detection, path=[px.Constant(\"All Device Type\"), 'DEVICE_USED', 'ACCOUNT_TYPE'], values='count')\n",
    "fig.write_html(\"data/EDA/TreeMap_DeviceType_vs_Accounttype.html\")\n"
   ]
  },
  {
   "cell_type": "code",
   "execution_count": 56,
   "id": "e2245a62-40a6-475e-b73a-ca82c66314dc",
   "metadata": {},
   "outputs": [
    {
     "data": {
      "text/html": [
       "<div>\n",
       "<style scoped>\n",
       "    .dataframe tbody tr th:only-of-type {\n",
       "        vertical-align: middle;\n",
       "    }\n",
       "\n",
       "    .dataframe tbody tr th {\n",
       "        vertical-align: top;\n",
       "    }\n",
       "\n",
       "    .dataframe thead th {\n",
       "        text-align: right;\n",
       "    }\n",
       "</style>\n",
       "<table border=\"1\" class=\"dataframe\">\n",
       "  <thead>\n",
       "    <tr style=\"text-align: right;\">\n",
       "      <th>CUSTOMER_SEGMENT</th>\n",
       "      <th>Business</th>\n",
       "      <th>Individual</th>\n",
       "      <th>Senior</th>\n",
       "      <th>Student</th>\n",
       "    </tr>\n",
       "    <tr>\n",
       "      <th>GENDER</th>\n",
       "      <th></th>\n",
       "      <th></th>\n",
       "      <th></th>\n",
       "      <th></th>\n",
       "    </tr>\n",
       "  </thead>\n",
       "  <tbody>\n",
       "    <tr>\n",
       "      <th>Female</th>\n",
       "      <td>0.053945</td>\n",
       "      <td>0.056077</td>\n",
       "      <td>0.053518</td>\n",
       "      <td>0.054072</td>\n",
       "    </tr>\n",
       "    <tr>\n",
       "      <th>Male</th>\n",
       "      <td>0.053554</td>\n",
       "      <td>0.053075</td>\n",
       "      <td>0.053708</td>\n",
       "      <td>0.051994</td>\n",
       "    </tr>\n",
       "  </tbody>\n",
       "</table>\n",
       "</div>"
      ],
      "text/plain": [
       "CUSTOMER_SEGMENT  Business  Individual    Senior   Student\n",
       "GENDER                                                    \n",
       "Female            0.053945    0.056077  0.053518  0.054072\n",
       "Male              0.053554    0.053075  0.053708  0.051994"
      ]
     },
     "execution_count": 56,
     "metadata": {},
     "output_type": "execute_result"
    }
   ],
   "source": [
    "claim_gender_edu=pd.pivot_table(data=Fraud_Detection,index='GENDER',columns='CUSTOMER_SEGMENT',values='FRAUD_INDICATOR')\n",
    "claim_gender_edu"
   ]
  },
  {
   "cell_type": "code",
   "execution_count": 57,
   "id": "a3d166d8-6d5a-4dc1-96b8-8c272670f925",
   "metadata": {},
   "outputs": [
    {
     "data": {
      "image/png": "[encoded data removed]",
      "text/plain": [
       "<Figure size 1100x700 with 2 Axes>"
      ]
     },
     "metadata": {},
     "output_type": "display_data"
    }
   ],
   "source": [
    "plt.figure(figsize=[11,7])\n",
    "sns.heatmap(claim_gender_edu,annot=True,cmap='RdYlGn_r')\n",
    "plt.title(\"Fraud correlaton between betwwen Gender and Customer Segmnet\")\n",
    "fig.write_html(\"data/EDA/corelation_gender_customersegment.html\")"
   ]
  },
  {
   "cell_type": "code",
   "execution_count": null,
   "id": "2fa5f693-8bb4-4386-8468-cdd651dd38a1",
   "metadata": {},
   "outputs": [],
   "source": []
  }
 ],
 "metadata": {
  "kernelspec": {
   "display_name": "Python 3 (ipykernel)",
   "language": "python",
   "name": "python3"
  },
  "language_info": {
   "codemirror_mode": {
    "name": "ipython",
    "version": 3
   },
   "file_extension": ".py",
   "mimetype": "text/x-python",
   "name": "python",
   "nbconvert_exporter": "python",
   "pygments_lexer": "ipython3",
   "version": "3.9.19"
  }
 },
 "nbformat": 4,
 "nbformat_minor": 5
}
