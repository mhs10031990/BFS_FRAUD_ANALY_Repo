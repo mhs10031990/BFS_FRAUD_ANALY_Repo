{
 "cells": [
  {
   "cell_type": "markdown",
   "id": "48d5850b-6b36-4de6-8999-13020e957bef",
   "metadata": {},
   "source": [
    "# Use FRAUD_ANALY_Template Customized Notebook"
   ]
  },
  {
   "cell_type": "code",
   "execution_count": 3,
   "id": "95f1244d-9cdf-4e8f-b313-c662936f68cb",
   "metadata": {},
   "outputs": [
    {
     "name": "stdout",
     "output_type": "stream",
     "text": [
      "\u001b[33mWARNING: You are using pip version 19.3.1; however, version 24.2 is available.\n",
      "You should consider upgrading via the 'pip install --upgrade pip' command.\u001b[0m\n"
     ]
    }
   ],
   "source": [
    "!pip install --q imbalanced-learn"
   ]
  },
  {
   "cell_type": "markdown",
   "id": "e8fffb03-33eb-46b4-85d0-ceb4041a4f41",
   "metadata": {
    "scrolled": true
   },
   "source": [
    "### Restart your Template here"
   ]
  },
  {
   "cell_type": "code",
   "execution_count": 1,
   "id": "5934fab0-0f2d-4684-a42e-e32204fc1613",
   "metadata": {},
   "outputs": [
    {
     "name": "stderr",
     "output_type": "stream",
     "text": [
      "/opt/conda/lib/python3.9/site-packages/xgboost/core.py:265: FutureWarning: Your system has an old version of glibc (< 2.28). We will stop supporting Linux distros with glibc older than 2.28 after **May 31, 2025**. Please upgrade to a recent Linux distro (with glibc 2.28+) to use future versions of XGBoost.\n",
      "Note: You have installed the 'manylinux2014' variant of XGBoost. Certain features such as GPU algorithms or federated learning are not available. To use these features, please upgrade to a recent Linux distro with glibc 2.28+, and install the 'manylinux_2_28' variant.\n",
      "  warnings.warn(\n"
     ]
    }
   ],
   "source": [
    "# Statitics and Basic data support\n",
    "from scipy.stats.mstats import winsorize\n",
    "import pandas as pd\n",
    "import numpy as np\n",
    "\n",
    "# Visualization\n",
    "import matplotlib.pyplot as plt\n",
    "import seaborn as sns\n",
    "\n",
    "# Modeling Training and Tunning\n",
    "from sklearn.preprocessing import LabelEncoder, MinMaxScaler, OneHotEncoder, OrdinalEncoder, StandardScaler\n",
    "from sklearn.model_selection import train_test_split, GridSearchCV, RandomizedSearchCV\n",
    "from sklearn.linear_model import LogisticRegression\n",
    "from sklearn.ensemble import RandomForestClassifier\n",
    "from sklearn.metrics import accuracy_score, confusion_matrix, classification_report,precision_score, recall_score, f1_score,log_loss, roc_auc_score,roc_curve, precision_recall_curve\n",
    "from xgboost import XGBClassifier\n",
    "from sklearn.compose import ColumnTransformer\n",
    "from sklearn.ensemble import RandomForestClassifier\n",
    "from sklearn.model_selection import train_test_split\n",
    "from sklearn.pipeline import Pipeline\n",
    "\n",
    "# Imbalance Handling\n",
    "from imblearn.over_sampling import SMOTE\n",
    "\n",
    "# Addititional\n",
    "from collections import Counter\n",
    "import joblib\n",
    "\n",
    "# Fosforml\n",
    "from fosforml import register_model\n",
    "from fosforml.constants import MLModelFlavours\n",
    "from fosforml.model_manager.snowflakesession import get_session\n",
    "\n",
    "# Warnings\n",
    "import warnings\n",
    "warnings.filterwarnings(\"ignore\", message=\"numpy.dtype size changed\")\n",
    "warnings.filterwarnings(\"ignore\", message=\"numpy.ufunc size changed\")"
   ]
  },
  {
   "cell_type": "code",
   "execution_count": 2,
   "id": "388a681d-9cfc-4925-97a8-d13bb7d93794",
   "metadata": {},
   "outputs": [],
   "source": [
    "my_session = get_session()"
   ]
  },
  {
   "cell_type": "markdown",
   "id": "0e43b6d6-664d-45b0-99a8-5cb98d961ca9",
   "metadata": {},
   "source": [
    "# Pull data from Snowflake"
   ]
  },
  {
   "cell_type": "code",
   "execution_count": 3,
   "id": "c7c76364-7064-4480-b6cc-7a5075125dc6",
   "metadata": {},
   "outputs": [],
   "source": [
    "df = 'FRAUD_DETECTION_ANALY_MASTER_TABLE'"
   ]
  },
  {
   "cell_type": "code",
   "execution_count": 4,
   "id": "4ef45048-2b00-4a6f-92ab-f22ca6bd8fae",
   "metadata": {},
   "outputs": [],
   "source": [
    "sf_df = my_session.sql(\"select * from {}\".format(df))"
   ]
  },
  {
   "cell_type": "code",
   "execution_count": 5,
   "id": "74b44499-f4a9-485a-bcef-39598314e338",
   "metadata": {},
   "outputs": [],
   "source": [
    "pandas_df = sf_df.to_pandas()"
   ]
  },
  {
   "cell_type": "code",
   "execution_count": 6,
   "id": "01a2c9a3-6012-410b-a868-deefaf550300",
   "metadata": {},
   "outputs": [
    {
     "name": "stdout",
     "output_type": "stream",
     "text": [
      "CREDIT_LIMIT                          0\n",
      "ACCOUNT_OPENING_DATE                  0\n",
      "LAST_LOGIN                            0\n",
      "CUSTOMER_SEGMENT                      0\n",
      "ACCOUNT_TYPE                          0\n",
      "DEVICE_USED                           0\n",
      "NAME                                  0\n",
      "GENDER                                0\n",
      "DOB                                   0\n",
      "AGE                                   0\n",
      "CUSTOMER_ID                           0\n",
      "AGE_GROUP                             0\n",
      "AGE_OF_ACCOUNT                        0\n",
      "FREQUENCY_OF_TRANSACTIONS             0\n",
      "CUSTOMER_LOYALTY_SCORE                0\n",
      "NUMBER_OF_REFUNDS                     0\n",
      "NUMBER_OF_CHARGEBACKS                 0\n",
      "CREDIT_UTILIZATION_RATIO              0\n",
      "CHANGE_IN_SPENDING_BEHAVIOR           0\n",
      "TRANSACTION_VELOCITY                  0\n",
      "CUSTOMER_LOYALTY_CATEGORY             0\n",
      "TIME_SINCE_LAST_TRANSACTION           0\n",
      "TRANSACTION_ID                        0\n",
      "TIME                                  0\n",
      "TRANSACTION_AMOUNT                    0\n",
      "MERCHANT_RISK_SCORE                   0\n",
      "DISTANCE_FROM_HOME_ADDRESS            0\n",
      "DISTANCE_FROM_LAST_TRANSACTION        0\n",
      "TRANSACTION_DATE                      0\n",
      "TRANSACTION_TYPE                      0\n",
      "MERCHANT_CATEGORY                     0\n",
      "PAYMENT_METHOD                        0\n",
      "TIME_OF_DAY                           0\n",
      "DAY_OF_WEEK                           0\n",
      "TRANSACTION_STATUS                    0\n",
      "COUNTY                                0\n",
      "STATE                                 0\n",
      "CITY                                  0\n",
      "YEAR                                  0\n",
      "QUARTER                               0\n",
      "MONTH                                 0\n",
      "ANOMALY_SCORE                         0\n",
      "FRAUD_INDICATOR                       0\n",
      "SUSPICIOUS_FLAG                       0\n",
      "PREVIOUS_FRAUD_REPORTS                0\n",
      "CROSS_BORDER_TRANSACTION_INDICATOR    0\n",
      "NEW_DEVICE_INDICATOR                  0\n",
      "ANAMOLY_RISK_CATEGORY                 0\n",
      "MERCHANT_RISK_CATEGORY                0\n",
      "FRAUD_FLAG                            0\n",
      "dtype: int64\n"
     ]
    }
   ],
   "source": [
    "print(pandas_df.isnull().sum())"
   ]
  },
  {
   "cell_type": "code",
   "execution_count": 8,
   "id": "314312fe-e702-4d9d-ba1d-078028152246",
   "metadata": {},
   "outputs": [],
   "source": [
    "Original_df = pandas_df.copy()"
   ]
  },
  {
   "cell_type": "code",
   "execution_count": 9,
   "id": "acafe521-0819-4416-8c75-f6056856a38b",
   "metadata": {},
   "outputs": [
    {
     "data": {
      "text/html": [
       "<div>\n",
       "<style scoped>\n",
       "    .dataframe tbody tr th:only-of-type {\n",
       "        vertical-align: middle;\n",
       "    }\n",
       "\n",
       "    .dataframe tbody tr th {\n",
       "        vertical-align: top;\n",
       "    }\n",
       "\n",
       "    .dataframe thead th {\n",
       "        text-align: right;\n",
       "    }\n",
       "</style>\n",
       "<table border=\"1\" class=\"dataframe\">\n",
       "  <thead>\n",
       "    <tr style=\"text-align: right;\">\n",
       "      <th></th>\n",
       "      <th>CREDIT_LIMIT</th>\n",
       "      <th>ACCOUNT_OPENING_DATE</th>\n",
       "      <th>LAST_LOGIN</th>\n",
       "      <th>CUSTOMER_SEGMENT</th>\n",
       "      <th>ACCOUNT_TYPE</th>\n",
       "      <th>DEVICE_USED</th>\n",
       "      <th>NAME</th>\n",
       "      <th>GENDER</th>\n",
       "      <th>DOB</th>\n",
       "      <th>AGE</th>\n",
       "      <th>...</th>\n",
       "      <th>MONTH</th>\n",
       "      <th>ANOMALY_SCORE</th>\n",
       "      <th>FRAUD_INDICATOR</th>\n",
       "      <th>SUSPICIOUS_FLAG</th>\n",
       "      <th>PREVIOUS_FRAUD_REPORTS</th>\n",
       "      <th>CROSS_BORDER_TRANSACTION_INDICATOR</th>\n",
       "      <th>NEW_DEVICE_INDICATOR</th>\n",
       "      <th>ANAMOLY_RISK_CATEGORY</th>\n",
       "      <th>MERCHANT_RISK_CATEGORY</th>\n",
       "      <th>FRAUD_FLAG</th>\n",
       "    </tr>\n",
       "  </thead>\n",
       "  <tbody>\n",
       "    <tr>\n",
       "      <th>0</th>\n",
       "      <td>30000</td>\n",
       "      <td>2017-08-17</td>\n",
       "      <td>2017-08-22</td>\n",
       "      <td>Individual</td>\n",
       "      <td>Business Account</td>\n",
       "      <td>Tablet</td>\n",
       "      <td>Andrea Garcia</td>\n",
       "      <td>Female</td>\n",
       "      <td>1991-09-12</td>\n",
       "      <td>33</td>\n",
       "      <td>...</td>\n",
       "      <td>October</td>\n",
       "      <td>0.66</td>\n",
       "      <td>0</td>\n",
       "      <td>0</td>\n",
       "      <td>2</td>\n",
       "      <td>No</td>\n",
       "      <td>No</td>\n",
       "      <td>High Risk</td>\n",
       "      <td>High Risk</td>\n",
       "      <td>No</td>\n",
       "    </tr>\n",
       "    <tr>\n",
       "      <th>1</th>\n",
       "      <td>15000</td>\n",
       "      <td>2017-09-13</td>\n",
       "      <td>2018-02-08</td>\n",
       "      <td>Student</td>\n",
       "      <td>Investment Account</td>\n",
       "      <td>Desktop</td>\n",
       "      <td>Victor Ray</td>\n",
       "      <td>Male</td>\n",
       "      <td>1979-04-25</td>\n",
       "      <td>45</td>\n",
       "      <td>...</td>\n",
       "      <td>February</td>\n",
       "      <td>0.26</td>\n",
       "      <td>0</td>\n",
       "      <td>0</td>\n",
       "      <td>1</td>\n",
       "      <td>No</td>\n",
       "      <td>No</td>\n",
       "      <td>Medium Risk</td>\n",
       "      <td>High Risk</td>\n",
       "      <td>No</td>\n",
       "    </tr>\n",
       "    <tr>\n",
       "      <th>2</th>\n",
       "      <td>40000</td>\n",
       "      <td>2017-12-31</td>\n",
       "      <td>2020-11-12</td>\n",
       "      <td>Senior</td>\n",
       "      <td>Investment Account</td>\n",
       "      <td>Tablet</td>\n",
       "      <td>Kelli Lopez</td>\n",
       "      <td>Male</td>\n",
       "      <td>1972-04-04</td>\n",
       "      <td>52</td>\n",
       "      <td>...</td>\n",
       "      <td>December</td>\n",
       "      <td>0.20</td>\n",
       "      <td>0</td>\n",
       "      <td>0</td>\n",
       "      <td>0</td>\n",
       "      <td>No</td>\n",
       "      <td>Yes</td>\n",
       "      <td>Low Risk</td>\n",
       "      <td>Very High Risk</td>\n",
       "      <td>No</td>\n",
       "    </tr>\n",
       "    <tr>\n",
       "      <th>3</th>\n",
       "      <td>5000</td>\n",
       "      <td>2017-04-26</td>\n",
       "      <td>2019-05-06</td>\n",
       "      <td>Student</td>\n",
       "      <td>Checking Account</td>\n",
       "      <td>Mobile</td>\n",
       "      <td>Traci Phillips</td>\n",
       "      <td>Male</td>\n",
       "      <td>1990-10-23</td>\n",
       "      <td>34</td>\n",
       "      <td>...</td>\n",
       "      <td>January</td>\n",
       "      <td>0.03</td>\n",
       "      <td>0</td>\n",
       "      <td>1</td>\n",
       "      <td>2</td>\n",
       "      <td>Yes</td>\n",
       "      <td>Yes</td>\n",
       "      <td>Low Risk</td>\n",
       "      <td>Medium Risk</td>\n",
       "      <td>No</td>\n",
       "    </tr>\n",
       "    <tr>\n",
       "      <th>4</th>\n",
       "      <td>25000</td>\n",
       "      <td>2019-10-13</td>\n",
       "      <td>2021-10-10</td>\n",
       "      <td>Student</td>\n",
       "      <td>Investment Account</td>\n",
       "      <td>Desktop</td>\n",
       "      <td>Eric Brooks</td>\n",
       "      <td>Female</td>\n",
       "      <td>1995-01-26</td>\n",
       "      <td>29</td>\n",
       "      <td>...</td>\n",
       "      <td>October</td>\n",
       "      <td>0.56</td>\n",
       "      <td>0</td>\n",
       "      <td>0</td>\n",
       "      <td>1</td>\n",
       "      <td>Yes</td>\n",
       "      <td>No</td>\n",
       "      <td>High Risk</td>\n",
       "      <td>Very High Risk</td>\n",
       "      <td>No</td>\n",
       "    </tr>\n",
       "    <tr>\n",
       "      <th>...</th>\n",
       "      <td>...</td>\n",
       "      <td>...</td>\n",
       "      <td>...</td>\n",
       "      <td>...</td>\n",
       "      <td>...</td>\n",
       "      <td>...</td>\n",
       "      <td>...</td>\n",
       "      <td>...</td>\n",
       "      <td>...</td>\n",
       "      <td>...</td>\n",
       "      <td>...</td>\n",
       "      <td>...</td>\n",
       "      <td>...</td>\n",
       "      <td>...</td>\n",
       "      <td>...</td>\n",
       "      <td>...</td>\n",
       "      <td>...</td>\n",
       "      <td>...</td>\n",
       "      <td>...</td>\n",
       "      <td>...</td>\n",
       "      <td>...</td>\n",
       "    </tr>\n",
       "    <tr>\n",
       "      <th>299995</th>\n",
       "      <td>10000</td>\n",
       "      <td>2018-04-10</td>\n",
       "      <td>2019-09-06</td>\n",
       "      <td>Business</td>\n",
       "      <td>Checking Account</td>\n",
       "      <td>Other</td>\n",
       "      <td>Carol Bishop</td>\n",
       "      <td>Male</td>\n",
       "      <td>1985-11-28</td>\n",
       "      <td>39</td>\n",
       "      <td>...</td>\n",
       "      <td>June</td>\n",
       "      <td>0.39</td>\n",
       "      <td>0</td>\n",
       "      <td>0</td>\n",
       "      <td>0</td>\n",
       "      <td>No</td>\n",
       "      <td>No</td>\n",
       "      <td>Medium Risk</td>\n",
       "      <td>Low Risk</td>\n",
       "      <td>No</td>\n",
       "    </tr>\n",
       "    <tr>\n",
       "      <th>299996</th>\n",
       "      <td>35000</td>\n",
       "      <td>2018-10-24</td>\n",
       "      <td>2018-10-24</td>\n",
       "      <td>Business</td>\n",
       "      <td>Savings Account</td>\n",
       "      <td>Mobile</td>\n",
       "      <td>Cole Jacobson</td>\n",
       "      <td>Male</td>\n",
       "      <td>1960-06-04</td>\n",
       "      <td>64</td>\n",
       "      <td>...</td>\n",
       "      <td>July</td>\n",
       "      <td>0.66</td>\n",
       "      <td>0</td>\n",
       "      <td>0</td>\n",
       "      <td>0</td>\n",
       "      <td>No</td>\n",
       "      <td>No</td>\n",
       "      <td>High Risk</td>\n",
       "      <td>Medium Risk</td>\n",
       "      <td>No</td>\n",
       "    </tr>\n",
       "    <tr>\n",
       "      <th>299997</th>\n",
       "      <td>15000</td>\n",
       "      <td>2017-08-24</td>\n",
       "      <td>2017-10-21</td>\n",
       "      <td>Senior</td>\n",
       "      <td>Checking Account</td>\n",
       "      <td>Other</td>\n",
       "      <td>Wendy Bell</td>\n",
       "      <td>Male</td>\n",
       "      <td>1988-03-17</td>\n",
       "      <td>36</td>\n",
       "      <td>...</td>\n",
       "      <td>February</td>\n",
       "      <td>0.53</td>\n",
       "      <td>0</td>\n",
       "      <td>0</td>\n",
       "      <td>0</td>\n",
       "      <td>No</td>\n",
       "      <td>No</td>\n",
       "      <td>High Risk</td>\n",
       "      <td>High Risk</td>\n",
       "      <td>No</td>\n",
       "    </tr>\n",
       "    <tr>\n",
       "      <th>299998</th>\n",
       "      <td>5000</td>\n",
       "      <td>2019-12-19</td>\n",
       "      <td>2021-04-09</td>\n",
       "      <td>Senior</td>\n",
       "      <td>Investment Account</td>\n",
       "      <td>Desktop</td>\n",
       "      <td>James Austin</td>\n",
       "      <td>Male</td>\n",
       "      <td>1992-09-13</td>\n",
       "      <td>32</td>\n",
       "      <td>...</td>\n",
       "      <td>November</td>\n",
       "      <td>0.77</td>\n",
       "      <td>0</td>\n",
       "      <td>0</td>\n",
       "      <td>2</td>\n",
       "      <td>No</td>\n",
       "      <td>No</td>\n",
       "      <td>Very High Risk</td>\n",
       "      <td>Very High Risk</td>\n",
       "      <td>No</td>\n",
       "    </tr>\n",
       "    <tr>\n",
       "      <th>299999</th>\n",
       "      <td>25000</td>\n",
       "      <td>2017-01-10</td>\n",
       "      <td>2018-11-17</td>\n",
       "      <td>Senior</td>\n",
       "      <td>Savings Account</td>\n",
       "      <td>Tablet</td>\n",
       "      <td>Candice Hunt</td>\n",
       "      <td>Female</td>\n",
       "      <td>1990-03-18</td>\n",
       "      <td>34</td>\n",
       "      <td>...</td>\n",
       "      <td>May</td>\n",
       "      <td>0.29</td>\n",
       "      <td>0</td>\n",
       "      <td>0</td>\n",
       "      <td>0</td>\n",
       "      <td>No</td>\n",
       "      <td>No</td>\n",
       "      <td>Medium Risk</td>\n",
       "      <td>High Risk</td>\n",
       "      <td>No</td>\n",
       "    </tr>\n",
       "  </tbody>\n",
       "</table>\n",
       "<p>300000 rows × 50 columns</p>\n",
       "</div>"
      ],
      "text/plain": [
       "        CREDIT_LIMIT ACCOUNT_OPENING_DATE  LAST_LOGIN CUSTOMER_SEGMENT  \\\n",
       "0              30000           2017-08-17  2017-08-22       Individual   \n",
       "1              15000           2017-09-13  2018-02-08          Student   \n",
       "2              40000           2017-12-31  2020-11-12           Senior   \n",
       "3               5000           2017-04-26  2019-05-06          Student   \n",
       "4              25000           2019-10-13  2021-10-10          Student   \n",
       "...              ...                  ...         ...              ...   \n",
       "299995         10000           2018-04-10  2019-09-06         Business   \n",
       "299996         35000           2018-10-24  2018-10-24         Business   \n",
       "299997         15000           2017-08-24  2017-10-21           Senior   \n",
       "299998          5000           2019-12-19  2021-04-09           Senior   \n",
       "299999         25000           2017-01-10  2018-11-17           Senior   \n",
       "\n",
       "              ACCOUNT_TYPE DEVICE_USED            NAME  GENDER         DOB  \\\n",
       "0         Business Account      Tablet   Andrea Garcia  Female  1991-09-12   \n",
       "1       Investment Account     Desktop      Victor Ray    Male  1979-04-25   \n",
       "2       Investment Account      Tablet     Kelli Lopez    Male  1972-04-04   \n",
       "3         Checking Account      Mobile  Traci Phillips    Male  1990-10-23   \n",
       "4       Investment Account     Desktop     Eric Brooks  Female  1995-01-26   \n",
       "...                    ...         ...             ...     ...         ...   \n",
       "299995    Checking Account       Other    Carol Bishop    Male  1985-11-28   \n",
       "299996     Savings Account      Mobile   Cole Jacobson    Male  1960-06-04   \n",
       "299997    Checking Account       Other      Wendy Bell    Male  1988-03-17   \n",
       "299998  Investment Account     Desktop    James Austin    Male  1992-09-13   \n",
       "299999     Savings Account      Tablet    Candice Hunt  Female  1990-03-18   \n",
       "\n",
       "       AGE  ...     MONTH ANOMALY_SCORE  FRAUD_INDICATOR  SUSPICIOUS_FLAG  \\\n",
       "0       33  ...   October          0.66                0                0   \n",
       "1       45  ...  February          0.26                0                0   \n",
       "2       52  ...  December          0.20                0                0   \n",
       "3       34  ...   January          0.03                0                1   \n",
       "4       29  ...   October          0.56                0                0   \n",
       "...     ..  ...       ...           ...              ...              ...   \n",
       "299995  39  ...      June          0.39                0                0   \n",
       "299996  64  ...      July          0.66                0                0   \n",
       "299997  36  ...  February          0.53                0                0   \n",
       "299998  32  ...  November          0.77                0                0   \n",
       "299999  34  ...       May          0.29                0                0   \n",
       "\n",
       "        PREVIOUS_FRAUD_REPORTS  CROSS_BORDER_TRANSACTION_INDICATOR  \\\n",
       "0                            2                                  No   \n",
       "1                            1                                  No   \n",
       "2                            0                                  No   \n",
       "3                            2                                 Yes   \n",
       "4                            1                                 Yes   \n",
       "...                        ...                                 ...   \n",
       "299995                       0                                  No   \n",
       "299996                       0                                  No   \n",
       "299997                       0                                  No   \n",
       "299998                       2                                  No   \n",
       "299999                       0                                  No   \n",
       "\n",
       "        NEW_DEVICE_INDICATOR  ANAMOLY_RISK_CATEGORY  MERCHANT_RISK_CATEGORY  \\\n",
       "0                         No              High Risk               High Risk   \n",
       "1                         No            Medium Risk               High Risk   \n",
       "2                        Yes               Low Risk          Very High Risk   \n",
       "3                        Yes               Low Risk             Medium Risk   \n",
       "4                         No              High Risk          Very High Risk   \n",
       "...                      ...                    ...                     ...   \n",
       "299995                    No            Medium Risk                Low Risk   \n",
       "299996                    No              High Risk             Medium Risk   \n",
       "299997                    No              High Risk               High Risk   \n",
       "299998                    No         Very High Risk          Very High Risk   \n",
       "299999                    No            Medium Risk               High Risk   \n",
       "\n",
       "        FRAUD_FLAG  \n",
       "0               No  \n",
       "1               No  \n",
       "2               No  \n",
       "3               No  \n",
       "4               No  \n",
       "...            ...  \n",
       "299995          No  \n",
       "299996          No  \n",
       "299997          No  \n",
       "299998          No  \n",
       "299999          No  \n",
       "\n",
       "[300000 rows x 50 columns]"
      ]
     },
     "execution_count": 9,
     "metadata": {},
     "output_type": "execute_result"
    }
   ],
   "source": [
    "Original_df"
   ]
  },
  {
   "cell_type": "code",
   "execution_count": 10,
   "id": "11a050a8-6ce6-4579-907e-1f0035f3ad35",
   "metadata": {},
   "outputs": [],
   "source": [
    "df = Original_df.drop([\"TRANSACTION_ID\", \"CUSTOMER_ID\", \"DOB\", \"NAME\", \"CITY\",\"COUNTY\",\"STATE\",\"YEAR\",\"QUARTER\",\"MONTH\",\"AGE_GROUP\",\"TRANSACTION_DATE\",\"ACCOUNT_OPENING_DATE\",\"LAST_LOGIN\",\"TIME_OF_DAY\",\"DAY_OF_WEEK\",\"TIME\",\"TIME_SINCE_LAST_TRANSACTION\",\"FRAUD_FLAG\"], axis = 1)"
   ]
  },
  {
   "cell_type": "code",
   "execution_count": 11,
   "id": "ec0a145a-b5a7-4422-855b-9025ea839e80",
   "metadata": {},
   "outputs": [],
   "source": [
    "CATEGORICAL_COLUMNS = [\"MERCHANT_CATEGORY\",\"PAYMENT_METHOD\",\"CUSTOMER_SEGMENT\",\"ACCOUNT_TYPE\",\"DEVICE_USED\",\"TRANSACTION_STATUS\",\"CROSS_BORDER_TRANSACTION_INDICATOR\",\"NEW_DEVICE_INDICATOR\",\"GENDER\",\"ANAMOLY_RISK_CATEGORY\",\"MERCHANT_RISK_CATEGORY\",\"CUSTOMER_LOYALTY_CATEGORY\",\"TRANSACTION_TYPE\"]\n",
    "NUMERICAL_COLUMNS = [\"ANOMALY_SCORE\",\"TRANSACTION_AMOUNT\",\"CREDIT_LIMIT\",\"AGE_OF_ACCOUNT\",\"FREQUENCY_OF_TRANSACTIONS\",\"MERCHANT_RISK_SCORE\",\"CUSTOMER_LOYALTY_SCORE\",\"DISTANCE_FROM_HOME_ADDRESS\",\"DISTANCE_FROM_LAST_TRANSACTION\",\"NUMBER_OF_REFUNDS\",\"NUMBER_OF_CHARGEBACKS\",\"CREDIT_UTILIZATION_RATIO\",\n",
    "                     \"CHANGE_IN_SPENDING_BEHAVIOR\",\"TRANSACTION_VELOCITY\",\"AGE\",\"SUSPICIOUS_FLAG\",\"PREVIOUS_FRAUD_REPORTS\"]\n",
    "LABEL_COLUMNS = [\"FRAUD_INDICATOR\"]\n",
    "DROPPED_COLUMNS = [\"TRANSACTION_ID\", \"CUSTOMER_ID\", \"DOB\", \"NAME\", \"CITY\",\"COUNTY\",\"STATE\",\"YEAR\",\"QUARTER\",\"MONTH\",\"AGE_GROUP\",\"TRANSACTION_DATE\",\"ACCOUNT_OPENING_DATE\",\"LAST_LOGIN\",\"TIME_OF_DAY\",\"DAY_OF_WEEK\",\"TIME\",\"TIME_SINCE_LAST_TRANSACTION\",\"FRAUD_FLAG\"]\n",
    "OUTPUT_COLUMNS = [\"PREDICTION\"]"
   ]
  },
  {
   "cell_type": "markdown",
   "id": "a8e259d2-d864-41e0-b3ab-1b4faf2b5505",
   "metadata": {},
   "source": [
    "# Feature Transformation"
   ]
  },
  {
   "cell_type": "code",
   "execution_count": 12,
   "id": "605c29d6-1048-403d-aed4-09372dad4734",
   "metadata": {},
   "outputs": [],
   "source": [
    "# Filter feature columns\n",
    "feature_columns = CATEGORICAL_COLUMNS + NUMERICAL_COLUMNS\n",
    "feature_columns = [col for col in feature_columns if col in Original_df.columns]\n",
    "LABEL_COLUMNS = [col for col in LABEL_COLUMNS if col in Original_df.columns]\n",
    " \n",
    "# Split data into features and labels\n",
    "X = Original_df[feature_columns + DROPPED_COLUMNS]\n",
    "y = Original_df[LABEL_COLUMNS].values.ravel()  # Flatten to 1D array for consistency"
   ]
  },
  {
   "cell_type": "code",
   "execution_count": 13,
   "id": "ad947e0c-7c49-41e6-85dd-16f69670c79e",
   "metadata": {},
   "outputs": [],
   "source": [
    "# Preprocessing for numerical data\n",
    "numerical_transformer = StandardScaler()"
   ]
  },
  {
   "cell_type": "code",
   "execution_count": 14,
   "id": "75bb024f-08d2-4fea-b8d8-9213b15e9dd7",
   "metadata": {},
   "outputs": [],
   "source": [
    "# Preprocessing for categorical data\n",
    "categorical_transformer = OneHotEncoder(handle_unknown='ignore')"
   ]
  },
  {
   "cell_type": "code",
   "execution_count": 15,
   "id": "40ccc0e4-4b6e-458a-8078-04e304427d7f",
   "metadata": {},
   "outputs": [],
   "source": [
    "# Bundle preprocessing for numerical and categorical data\n",
    "preprocessor = ColumnTransformer(\n",
    "    transformers=[\n",
    "        ('num', numerical_transformer, NUMERICAL_COLUMNS),\n",
    "        ('cat', categorical_transformer, CATEGORICAL_COLUMNS)\n",
    "    ])"
   ]
  },
  {
   "cell_type": "code",
   "execution_count": 16,
   "id": "81567a26-9b94-44f0-98b5-c42f3e019777",
   "metadata": {},
   "outputs": [],
   "source": [
    "# Create and train the logistic regression model within a pipeline\n",
    "model = Pipeline(steps=[('preprocessor', preprocessor),\n",
    "                        ('classifier', LogisticRegression())])"
   ]
  },
  {
   "cell_type": "markdown",
   "id": "a446712e-b1fb-4361-9a3f-9a82f1b92ca8",
   "metadata": {},
   "source": [
    "# Train Test Split"
   ]
  },
  {
   "cell_type": "code",
   "execution_count": 17,
   "id": "7f081268-6ae3-4cd4-b41c-53f15be74d4b",
   "metadata": {},
   "outputs": [],
   "source": [
    "# splitting data into training set and test set\n",
    "X_train, X_test, y_train, y_test = train_test_split(X, y, test_size=0.25, random_state=42)"
   ]
  },
  {
   "cell_type": "code",
   "execution_count": 18,
   "id": "8513756f-1ff3-4997-9f75-26375f8c42d8",
   "metadata": {},
   "outputs": [
    {
     "data": {
      "text/plain": [
       "((225000, 49), (75000,))"
      ]
     },
     "execution_count": 18,
     "metadata": {},
     "output_type": "execute_result"
    }
   ],
   "source": [
    "X_train.shape,y_test.shape"
   ]
  },
  {
   "cell_type": "markdown",
   "id": "e65dde50-0054-4131-a433-9723624e8c1c",
   "metadata": {},
   "source": [
    "# Logistics Regression Model Training and Evaluation"
   ]
  },
  {
   "cell_type": "code",
   "execution_count": 19,
   "id": "d798de25-942c-4a19-bd4b-5dc0eeb84957",
   "metadata": {},
   "outputs": [
    {
     "name": "stdout",
     "output_type": "stream",
     "text": [
      "Accuracy: 0.94572\n"
     ]
    }
   ],
   "source": [
    "# Train the model\n",
    "model.fit(X_train, y_train)\n",
    "\n",
    "# Make predictions on the testing data\n",
    "y_pred = model.predict(X_test)\n",
    "\n",
    "# Calculate the accuracy of the model\n",
    "accuracy = accuracy_score(y_test, y_pred)\n",
    "print(\"Accuracy:\", accuracy)"
   ]
  },
  {
   "cell_type": "code",
   "execution_count": 20,
   "id": "d18386af-07e7-4619-ab3d-ddf13ca3e885",
   "metadata": {},
   "outputs": [
    {
     "data": {
      "image/png": "[encoded data removed]",
      "text/plain": [
       "<Figure size 800x600 with 1 Axes>"
      ]
     },
     "metadata": {},
     "output_type": "display_data"
    }
   ],
   "source": [
    "# Assuming your DataFrame is named 'df' and has a column 'FraudIndicator'\n",
    "# Create a count plot for the 'FraudIndicator' column\n",
    "plt.figure(figsize=(8, 6))  # Optional: Adjust the figure size\n",
    "sns.countplot(data=Original_df, x='FRAUD_INDICATOR', palette='viridis')\n",
    "plt.title('Count Plot of Fraud Indicator')\n",
    "plt.xlabel('Fraud Indicator')\n",
    "plt.ylabel('Count')\n",
    "plt.show()"
   ]
  },
  {
   "cell_type": "markdown",
   "id": "c0a13527-ab95-4f64-bd0d-395e8aae8165",
   "metadata": {},
   "source": [
    "# Oversampling using Imblearn"
   ]
  },
  {
   "cell_type": "code",
   "execution_count": 21,
   "id": "7e9a62d1-7fcb-409c-b615-53ca6a19751b",
   "metadata": {},
   "outputs": [],
   "source": [
    "# Assuming your DataFrame is named 'df' and has been preprocessed\n",
    "# Split data into features and labels\n",
    "X = Original_df[feature_columns]\n",
    "y = Original_df[LABEL_COLUMNS].values.ravel()  # Flatten to 1D array for consistency\n",
    "\n",
    "# Apply preprocessing to the data\n",
    "X_preprocessed = preprocessor.fit_transform(X)\n",
    "\n",
    "# Initialize SMOTE for oversampling\n",
    "smote = SMOTE(random_state=42)\n",
    "\n",
    "# Apply SMOTE to the data\n",
    "X_resampled, y_resampled = smote.fit_resample(X_preprocessed, y)"
   ]
  },
  {
   "cell_type": "code",
   "execution_count": 22,
   "id": "9ac60d6c-e9b8-4c62-8828-1e823b2e002f",
   "metadata": {},
   "outputs": [
    {
     "name": "stdout",
     "output_type": "stream",
     "text": [
      "Class distribution after oversampling: Counter({0: 283877, 1: 283877})\n"
     ]
    },
    {
     "data": {
      "image/png": "[encoded data removed]",
      "text/plain": [
       "<Figure size 800x600 with 1 Axes>"
      ]
     },
     "metadata": {},
     "output_type": "display_data"
    }
   ],
   "source": [
    "print(\"Class distribution after oversampling:\", Counter(y_resampled))\n",
    "\n",
    "# Create a count plot for the 'FRAUD_INDICATOR' column after oversampling\n",
    "plt.figure(figsize=(8, 6))\n",
    "sns.countplot(data=pd.DataFrame({'FRAUD_INDICATOR': y_resampled}), x='FRAUD_INDICATOR', palette='viridis')\n",
    "plt.title('Count Plot of Fraud Indicator (After Oversampling)')\n",
    "plt.xlabel('Fraud Indicator')\n",
    "plt.ylabel('Count')\n",
    "plt.show()"
   ]
  },
  {
   "cell_type": "markdown",
   "id": "61679623-61bd-4340-81d9-33d96bdc9529",
   "metadata": {},
   "source": [
    "# Logistics Regression Model using Oversampled data for Training and Evaluation"
   ]
  },
  {
   "cell_type": "code",
   "execution_count": 23,
   "id": "43020e84-bb6b-47e9-8556-e1febfb248b4",
   "metadata": {},
   "outputs": [
    {
     "name": "stdout",
     "output_type": "stream",
     "text": [
      "Accuracy: -->  0.4981466666666667\n",
      "Precision: -->  0.057617290458618874\n",
      "Recall: -->  0.5369688037337264\n",
      "F1 Score: 0.10406798219513938\n",
      "-----------Confusion Matrix---------\n",
      "[[35175 35754]\n",
      " [ 1885  2186]]\n"
     ]
    }
   ],
   "source": [
    "# Retraining Logistic regression using SAMPLED Data\n",
    "model = LogisticRegression()\n",
    "\n",
    "# Train the model on the training data\n",
    "model.fit(X_resampled, y_resampled)\n",
    "\n",
    "# Apply preprocessing to the testing data\n",
    "X_test_preprocessed = preprocessor.transform(X_test)\n",
    "\n",
    "# Make predictions on the testing data\n",
    "y_pred = model.predict(X_test_preprocessed)\n",
    "\n",
    "# Calculate and print various metrics to evaluate the model's performance\n",
    "accuracy = accuracy_score(y_test, y_pred)\n",
    "precision = precision_score(y_test, y_pred)\n",
    "recall = recall_score(y_test, y_pred)\n",
    "f1 = f1_score(y_test, y_pred)\n",
    "confusion = confusion_matrix(y_test, y_pred)\n",
    "\n",
    "print(\"Accuracy: --> \", accuracy)\n",
    "print(\"Precision: --> \", precision)\n",
    "print(\"Recall: --> \", recall)\n",
    "print(\"F1 Score:\", f1)\n",
    "print(\"-----------Confusion Matrix---------\")\n",
    "print(confusion)"
   ]
  },
  {
   "cell_type": "markdown",
   "id": "d56a53f6-f63a-4b0b-8572-3287c098602a",
   "metadata": {},
   "source": [
    "# Hyperparameter tunning of Logistics Regression"
   ]
  },
  {
   "cell_type": "code",
   "execution_count": 24,
   "id": "c1ded756-f839-4b9b-809d-0761b02e7f77",
   "metadata": {},
   "outputs": [
    {
     "name": "stdout",
     "output_type": "stream",
     "text": [
      "Best Hyperparameters: -->  {'C': 0.001, 'penalty': 'l1', 'solver': 'liblinear'}\n",
      "Accuracy: -->  0.5227862771552468\n",
      "Precision: -->  0.5193852811517587\n",
      "Recall: -->  0.6105073676275288\n",
      "F1 Score: -->  0.5612719776927836\n",
      "-----------Confusion Matrix------------\n",
      "[[123505 160372]\n",
      " [110568 173309]]\n"
     ]
    }
   ],
   "source": [
    "# Define the logistic regression model\n",
    "model = LogisticRegression()\n",
    "\n",
    "# Define a range of hyperparameters to search\n",
    "param_grid = {\n",
    "    'penalty': ['l1', 'l2'],  # Regularization type\n",
    "    'C': np.logspace(-3, 3, 7),  # Inverse of regularization strength (smaller values for stronger regularization)\n",
    "    'solver': ['liblinear'],  # Solver for l1 regularization\n",
    "}\n",
    "\n",
    "# Create a grid search with cross-validation\n",
    "grid_search = GridSearchCV(model, param_grid, cv=5, scoring='f1', n_jobs=-1)\n",
    "\n",
    "# Fit the grid search to the data\n",
    "grid_search.fit(X_resampled, y_resampled)\n",
    "\n",
    "# Get the best hyperparameters and corresponding model\n",
    "best_params = grid_search.best_params_\n",
    "best_model = grid_search.best_estimator_\n",
    "\n",
    "# Print the best hyperparameters\n",
    "print(\"Best Hyperparameters: --> \", best_params)\n",
    "\n",
    "# Evaluate the best model on the resampled data\n",
    "y_pred = best_model.predict(X_resampled)\n",
    "\n",
    "# Calculate and print various metrics to evaluate the model's performance on the resampled data\n",
    "accuracy = accuracy_score(y_resampled, y_pred)\n",
    "precision = precision_score(y_resampled, y_pred)\n",
    "recall = recall_score(y_resampled, y_pred)\n",
    "f1 = f1_score(y_resampled, y_pred)\n",
    "confusion = confusion_matrix(y_resampled, y_pred)\n",
    "\n",
    "print(\"Accuracy: --> \", accuracy)\n",
    "print(\"Precision: --> \", precision)\n",
    "print(\"Recall: --> \", recall)\n",
    "print(\"F1 Score: --> \", f1)\n",
    "print(\"-----------Confusion Matrix------------\")\n",
    "print(confusion)"
   ]
  },
  {
   "cell_type": "markdown",
   "id": "fcbe048e-9815-4d88-95fb-91cab3b1e0fc",
   "metadata": {},
   "source": [
    "# Random Forest Model Training, Hyperparameter tunning and Evaluation"
   ]
  },
  {
   "cell_type": "code",
   "execution_count": 35,
   "id": "a96f9898-3f01-4d03-9c9c-5a81354954cc",
   "metadata": {},
   "outputs": [],
   "source": [
    "# Bundle preprocessing for numerical and categorical data\n",
    "preprocessor = ColumnTransformer(\n",
    "    transformers=[\n",
    "        ('num', numerical_transformer, NUMERICAL_COLUMNS),\n",
    "        ('cat', categorical_transformer, CATEGORICAL_COLUMNS)\n",
    "    ])\n",
    "\n",
    "# Apply preprocessing to the data\n",
    "X_process = preprocessor.fit_transform(X)"
   ]
  },
  {
   "cell_type": "code",
   "execution_count": 37,
   "id": "493a9898-ced8-4736-ab8b-85d631074b63",
   "metadata": {},
   "outputs": [],
   "source": [
    "# Initialize SMOTE for oversampling\n",
    "smote = SMOTE(random_state=42)\n",
    "# Apply SMOTE to the data\n",
    "X_balance, y_balance = smote.fit_resample(X_process, y)"
   ]
  },
  {
   "cell_type": "code",
   "execution_count": 38,
   "id": "f82256cc-0d01-409d-b931-a246f289106f",
   "metadata": {},
   "outputs": [],
   "source": [
    "# Use a smaller subset for hyperparameter tuning\n",
    "X_train_subset, X_test_subset, y_train_subset, y_test_subset = train_test_split(X_balance, y_balance, test_size=0.8, random_state=42)"
   ]
  },
  {
   "cell_type": "code",
   "execution_count": 39,
   "id": "56c244ce-f2ec-444e-a04c-950fbd492b75",
   "metadata": {},
   "outputs": [],
   "source": [
    "# Define the Random Forest Classifier model\n",
    "rf_model = RandomForestClassifier(random_state=42)\n",
    "\n",
    "# Define a range of hyperparameters to search\n",
    "param_dist = {\n",
    "    'n_estimators': [50, 100],\n",
    "    'max_depth': [None, 10, 20],\n",
    "    'min_samples_split': [2, 5],\n",
    "    'min_samples_leaf': [1, 2],\n",
    "}\n",
    "\n",
    "# Create a randomized search with cross-validation\n",
    "random_search = RandomizedSearchCV(rf_model, param_dist, n_iter=5, cv=3, scoring='f1', n_jobs=-1, random_state=42)\n",
    "\n",
    "# Fit the randomized search to the subset of data\n",
    "random_search.fit(X_train_subset, y_train_subset)\n",
    "\n",
    "# Get the best hyperparameters and corresponding model\n",
    "best_params = random_search.best_params_\n",
    "best_rf_model = random_search.best_estimator_"
   ]
  },
  {
   "cell_type": "code",
   "execution_count": 40,
   "id": "539b0262-fda6-4f92-8f85-36226891fa8e",
   "metadata": {
    "scrolled": true
   },
   "outputs": [
    {
     "data": {
      "text/html": [
       "<style>#sk-container-id-1 {color: black;}#sk-container-id-1 pre{padding: 0;}#sk-container-id-1 div.sk-toggleable {background-color: white;}#sk-container-id-1 label.sk-toggleable__label {cursor: pointer;display: block;width: 100%;margin-bottom: 0;padding: 0.3em;box-sizing: border-box;text-align: center;}#sk-container-id-1 label.sk-toggleable__label-arrow:before {content: \"▸\";float: left;margin-right: 0.25em;color: #696969;}#sk-container-id-1 label.sk-toggleable__label-arrow:hover:before {color: black;}#sk-container-id-1 div.sk-estimator:hover label.sk-toggleable__label-arrow:before {color: black;}#sk-container-id-1 div.sk-toggleable__content {max-height: 0;max-width: 0;overflow: hidden;text-align: left;background-color: #f0f8ff;}#sk-container-id-1 div.sk-toggleable__content pre {margin: 0.2em;color: black;border-radius: 0.25em;background-color: #f0f8ff;}#sk-container-id-1 input.sk-toggleable__control:checked~div.sk-toggleable__content {max-height: 200px;max-width: 100%;overflow: auto;}#sk-container-id-1 input.sk-toggleable__control:checked~label.sk-toggleable__label-arrow:before {content: \"▾\";}#sk-container-id-1 div.sk-estimator input.sk-toggleable__control:checked~label.sk-toggleable__label {background-color: #d4ebff;}#sk-container-id-1 div.sk-label input.sk-toggleable__control:checked~label.sk-toggleable__label {background-color: #d4ebff;}#sk-container-id-1 input.sk-hidden--visually {border: 0;clip: rect(1px 1px 1px 1px);clip: rect(1px, 1px, 1px, 1px);height: 1px;margin: -1px;overflow: hidden;padding: 0;position: absolute;width: 1px;}#sk-container-id-1 div.sk-estimator {font-family: monospace;background-color: #f0f8ff;border: 1px dotted black;border-radius: 0.25em;box-sizing: border-box;margin-bottom: 0.5em;}#sk-container-id-1 div.sk-estimator:hover {background-color: #d4ebff;}#sk-container-id-1 div.sk-parallel-item::after {content: \"\";width: 100%;border-bottom: 1px solid gray;flex-grow: 1;}#sk-container-id-1 div.sk-label:hover label.sk-toggleable__label {background-color: #d4ebff;}#sk-container-id-1 div.sk-serial::before {content: \"\";position: absolute;border-left: 1px solid gray;box-sizing: border-box;top: 0;bottom: 0;left: 50%;z-index: 0;}#sk-container-id-1 div.sk-serial {display: flex;flex-direction: column;align-items: center;background-color: white;padding-right: 0.2em;padding-left: 0.2em;position: relative;}#sk-container-id-1 div.sk-item {position: relative;z-index: 1;}#sk-container-id-1 div.sk-parallel {display: flex;align-items: stretch;justify-content: center;background-color: white;position: relative;}#sk-container-id-1 div.sk-item::before, #sk-container-id-1 div.sk-parallel-item::before {content: \"\";position: absolute;border-left: 1px solid gray;box-sizing: border-box;top: 0;bottom: 0;left: 50%;z-index: -1;}#sk-container-id-1 div.sk-parallel-item {display: flex;flex-direction: column;z-index: 1;position: relative;background-color: white;}#sk-container-id-1 div.sk-parallel-item:first-child::after {align-self: flex-end;width: 50%;}#sk-container-id-1 div.sk-parallel-item:last-child::after {align-self: flex-start;width: 50%;}#sk-container-id-1 div.sk-parallel-item:only-child::after {width: 0;}#sk-container-id-1 div.sk-dashed-wrapped {border: 1px dashed gray;margin: 0 0.4em 0.5em 0.4em;box-sizing: border-box;padding-bottom: 0.4em;background-color: white;}#sk-container-id-1 div.sk-label label {font-family: monospace;font-weight: bold;display: inline-block;line-height: 1.2em;}#sk-container-id-1 div.sk-label-container {text-align: center;}#sk-container-id-1 div.sk-container {/* jupyter's `normalize.less` sets `[hidden] { display: none; }` but bootstrap.min.css set `[hidden] { display: none !important; }` so we also need the `!important` here to be able to override the default hidden behavior on the sphinx rendered scikit-learn.org. See: https://github.com/scikit-learn/scikit-learn/issues/21755 */display: inline-block !important;position: relative;}#sk-container-id-1 div.sk-text-repr-fallback {display: none;}</style><div id=\"sk-container-id-1\" class=\"sk-top-container\"><div class=\"sk-text-repr-fallback\"><pre>RandomForestClassifier(n_estimators=50, random_state=42)</pre><b>In a Jupyter environment, please rerun this cell to show the HTML representation or trust the notebook. <br />On GitHub, the HTML representation is unable to render, please try loading this page with nbviewer.org.</b></div><div class=\"sk-container\" hidden><div class=\"sk-item\"><div class=\"sk-estimator sk-toggleable\"><input class=\"sk-toggleable__control sk-hidden--visually\" id=\"sk-estimator-id-1\" type=\"checkbox\" checked><label for=\"sk-estimator-id-1\" class=\"sk-toggleable__label sk-toggleable__label-arrow\">RandomForestClassifier</label><div class=\"sk-toggleable__content\"><pre>RandomForestClassifier(n_estimators=50, random_state=42)</pre></div></div></div></div></div>"
      ],
      "text/plain": [
       "RandomForestClassifier(n_estimators=50, random_state=42)"
      ]
     },
     "execution_count": 40,
     "metadata": {},
     "output_type": "execute_result"
    }
   ],
   "source": [
    "best_rf_model"
   ]
  },
  {
   "cell_type": "code",
   "execution_count": 41,
   "id": "e110eb6c-f11c-4225-a559-f3478ad26610",
   "metadata": {},
   "outputs": [
    {
     "data": {
      "text/plain": [
       "{'n_estimators': 50,\n",
       " 'min_samples_split': 2,\n",
       " 'min_samples_leaf': 1,\n",
       " 'max_depth': None}"
      ]
     },
     "execution_count": 41,
     "metadata": {},
     "output_type": "execute_result"
    }
   ],
   "source": [
    "best_params"
   ]
  },
  {
   "cell_type": "code",
   "execution_count": null,
   "id": "fe75613f-302f-4dfd-86cb-ef40d3a39b42",
   "metadata": {},
   "outputs": [],
   "source": [
    "# Train the best model on the full training data\n",
    "best_rf_model.fit(X_train, y_train)\n",
    "\n",
    "# Make predictions on the testing data\n",
    "y_pred = best_rf_model.predict(X_test)\n",
    "\n",
    "# Calculate and print various metrics to evaluate the best model's performance\n",
    "accuracy = accuracy_score(y_test, y_pred)\n",
    "precision = precision_score(y_test, y_pred)\n",
    "recall = recall_score(y_test, y_pred)\n",
    "f1 = f1_score(y_test, y_pred)\n",
    "confusion = confusion_matrix(y_test, y_pred)\n",
    "\n",
    "print(\"Accuracy: --> \", accuracy)\n",
    "print(\"Precision: --> \", precision)\n",
    "print(\"Recall: --> \", recall)\n",
    "print(\"F1 Score: --> \", f1)\n",
    "print(\"-----------Confusion Matrix------------\")\n",
    "print(confusion)"
   ]
  },
  {
   "cell_type": "code",
   "execution_count": null,
   "id": "6db87879-3f82-402f-b952-8a2fdd429f82",
   "metadata": {},
   "outputs": [],
   "source": [
    "# Get predicted probabilities\n",
    "y_prob = best_rf_model.predict_proba(X_test)\n",
    "\n",
    "# Check lengths\n",
    "print(\"Length of y_test: --> \", len(y_test))\n",
    "print(\"Length of y_pred: --> \", len(y_pred))\n",
    "\n",
    "# Print classification report\n",
    "print(classification_report(y_test, y_pred))\n",
    "\n",
    "# Calculate accuracy\n",
    "accuracy = sum(y_test == y_pred) / len(y_test)\n",
    "print(\"Accuracy:\", accuracy)\n",
    "\n",
    "# Calculate additional metrics\n",
    "log_loss_value = log_loss(y_test, y_prob)\n",
    "roc_auc = roc_auc_score(y_test, y_prob[:, 1])  # Assuming class 1 is the positive class\n",
    "\n",
    "print(\"Log Loss: --> \", log_loss_value)\n",
    "print(\"ROC AUC Score: --> \", roc_auc)"
   ]
  },
  {
   "cell_type": "code",
   "execution_count": null,
   "id": "dd2cea46-0b99-4191-ac26-4b8f0433048f",
   "metadata": {},
   "outputs": [],
   "source": [
    "# Get predicted probabilities\n",
    "y_prob = best_rf_model.predict_proba(X_test)\n",
    "\n",
    "# Create a DataFrame to store the probabilities\n",
    "pred_df = pd.DataFrame(y_prob, columns=['PROB_0', 'PROB_1'])\n",
    "\n",
    "# Assuming class 1 is the positive class\n",
    "pred_df['PROB'] = pred_df['PROB_1']\n",
    "\n",
    "# No skill prediction (random guessing)\n",
    "ns_probs = [0 for _ in range(len(y_test))]\n",
    "\n",
    "# Calculate AUC scores\n",
    "ns_auc = roc_auc_score(y_test, ns_probs)\n",
    "lr_auc = roc_auc_score(y_test, pred_df[\"PROB\"])\n",
    "\n",
    "# Calculate ROC curves\n",
    "ns_fpr, ns_tpr, _ = roc_curve(y_test, ns_probs)\n",
    "lr_fpr, lr_tpr, _ = roc_curve(y_test, pred_df[\"PROB\"])\n",
    "\n",
    "# Plot the ROC curve for the model\n",
    "plt.plot(ns_fpr, ns_tpr, linestyle='--', label='No Skill')\n",
    "plt.plot(lr_fpr, lr_tpr, marker='.', label='RandomForest')\n",
    "\n",
    "# Axis labels\n",
    "plt.xlabel('False Positive Rate')\n",
    "plt.ylabel('True Positive Rate')\n",
    "\n",
    "# Show the legend\n",
    "plt.legend()\n",
    "\n",
    "# Show the plot\n",
    "plt.show()"
   ]
  },
  {
   "cell_type": "code",
   "execution_count": null,
   "id": "ddeb3bf8-e4d7-4d66-bd8b-6ad15be6185a",
   "metadata": {},
   "outputs": [],
   "source": [
    "# Assuming pred_df is already defined and contains the predicted probabilities\n",
    "lr_precision, lr_recall, _ = precision_recall_curve(y_test, pred_df[\"PROB\"])\n",
    "\n",
    "# Plot the Precision-Recall curve\n",
    "plt.plot(lr_recall, lr_precision, marker='.', label='RandomForest')\n",
    "\n",
    "# Axis labels\n",
    "plt.xlabel('Recall')\n",
    "plt.ylabel('Precision')\n",
    "\n",
    "# Show the legend\n",
    "plt.legend()\n",
    "\n",
    "# Show the plot\n",
    "plt.show()"
   ]
  },
  {
   "cell_type": "code",
   "execution_count": null,
   "id": "7ebe1798-107c-4c91-bf90-a3b3f22c2a06",
   "metadata": {},
   "outputs": [],
   "source": [
    "cm = confusion_matrix(y_test,y_pred)\n",
    " \n",
    "#Plot the confusion matrix.\n",
    "sns.heatmap(cm,\n",
    "            annot=True,\n",
    "            fmt='g',\n",
    "            xticklabels=['Not Churn','Churn'],\n",
    "            yticklabels=['Not CHurn','Churn'])\n",
    "plt.ylabel('Prediction',fontsize=13)\n",
    "plt.xlabel('Actual',fontsize=13)\n",
    "plt.title('Confusion Matrix',fontsize=17)\n",
    "plt.show()"
   ]
  },
  {
   "cell_type": "code",
   "execution_count": null,
   "id": "03634b8f-180f-4d3f-83be-e53ed3421dd5",
   "metadata": {},
   "outputs": [],
   "source": [
    "# Add predictions to pred_df\n",
    "pred_df['PREDICTION'] = y_pred\n",
    "\n",
    "# Create scores_data DataFrame\n",
    "scores_data = pd.DataFrame({\n",
    "    \"ns_probs\": ns_probs,\n",
    "    \"y_test\": y_test,\n",
    "    \"y_pred\": pred_df[\"PREDICTION\"],\n",
    "    \"act_probs\": pred_df[\"PROB\"]\n",
    "})\n",
    "\n",
    "# Display the first few rows of scores_data to verify\n",
    "print(scores_data.head())"
   ]
  }
 ],
 "metadata": {
  "kernelspec": {
   "display_name": "Python 3 (ipykernel)",
   "language": "python",
   "name": "python3"
  },
  "language_info": {
   "codemirror_mode": {
    "name": "ipython",
    "version": 3
   },
   "file_extension": ".py",
   "mimetype": "text/x-python",
   "name": "python",
   "nbconvert_exporter": "python",
   "pygments_lexer": "ipython3",
   "version": "3.9.19"
  }
 },
 "nbformat": 4,
 "nbformat_minor": 5
}
