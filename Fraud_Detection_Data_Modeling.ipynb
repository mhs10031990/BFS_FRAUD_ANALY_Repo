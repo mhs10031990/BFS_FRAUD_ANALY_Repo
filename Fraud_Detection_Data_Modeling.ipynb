{
 "cells": [
  {
   "cell_type": "code",
   "execution_count": null,
   "id": "95f1244d-9cdf-4e8f-b313-c662936f68cb",
   "metadata": {},
   "outputs": [],
   "source": [
    "!pip install --upgrade pip\n",
    "!pip install fosforml numpy pandas matplotlib scikit-learn seaborn python-dateutil\n",
    "!pip uninstall urllib3 -y\n",
    "!pip install urllib3==1.26.15\n",
    "!pip install fosforml \n",
    "!pip install fosforio\n",
    "!pip install -U cloudpickle"
   ]
  },
  {
   "cell_type": "code",
   "execution_count": null,
   "id": "ae08a6c6-b883-46b5-b83a-4097a57c5294",
   "metadata": {},
   "outputs": [],
   "source": [
    "!pip install seaborn scipy xgboost pandas dice-ml tabulate numpy scikit-learn pandas-profiling plotly matplotlib scipy statsmodels seaborn pydantic-settings"
   ]
  },
  {
   "cell_type": "code",
   "execution_count": 1,
   "id": "5934fab0-0f2d-4684-a42e-e32204fc1613",
   "metadata": {},
   "outputs": [],
   "source": [
    "import pandas as pd\n",
    "import numpy as np\n",
    "import matplotlib.pyplot as plt\n",
    "from sklearn.preprocessing import LabelEncoder, MinMaxScaler, OneHotEncoder, OrdinalEncoder\n",
    "from sklearn.model_selection import train_test_split\n",
    "from sklearn.ensemble import RandomForestClassifier\n",
    "from sklearn.metrics import accuracy_score, confusion_matrix, classification_report\n",
    "import seaborn as sns\n",
    "from scipy.stats.mstats import winsorize\n",
    "from xgboost import XGBClassifier\n",
    "from sklearn.compose import ColumnTransformer\n",
    "from sklearn.ensemble import RandomForestClassifier\n",
    "from sklearn.pipeline import Pipeline\n",
    "import joblib\n",
    "from fosforml import *\n",
    "from fosforml.constants import MLModelFlavours\n",
    "import warnings\n",
    "warnings.filterwarnings(\"ignore\", message=\"numpy.dtype size changed\")\n",
    "warnings.filterwarnings(\"ignore\", message=\"numpy.ufunc size changed\")"
   ]
  },
  {
   "cell_type": "code",
   "execution_count": 2,
   "id": "388a681d-9cfc-4925-97a8-d13bb7d93794",
   "metadata": {},
   "outputs": [],
   "source": [
    "from fosforml.model_manager.snowflakesession import get_session\n",
    "\n",
    "my_session = get_session()"
   ]
  },
  {
   "cell_type": "code",
   "execution_count": 3,
   "id": "c7c76364-7064-4480-b6cc-7a5075125dc6",
   "metadata": {},
   "outputs": [],
   "source": [
    "df = 'FRAUD_DETECTION_ANALY_MASTER_TABLE'"
   ]
  },
  {
   "cell_type": "code",
   "execution_count": 4,
   "id": "4ef45048-2b00-4a6f-92ab-f22ca6bd8fae",
   "metadata": {},
   "outputs": [],
   "source": [
    "sf_df = my_session.sql(\"select * from {}\".format(df))"
   ]
  },
  {
   "cell_type": "code",
   "execution_count": 5,
   "id": "74b44499-f4a9-485a-bcef-39598314e338",
   "metadata": {},
   "outputs": [],
   "source": [
    "import pandas as pd\n",
    "pandas_df = sf_df.to_pandas()"
   ]
  },
  {
   "cell_type": "code",
   "execution_count": 6,
   "id": "01a2c9a3-6012-410b-a868-deefaf550300",
   "metadata": {},
   "outputs": [
    {
     "name": "stdout",
     "output_type": "stream",
     "text": [
      "CREDIT_LIMIT                          0\n",
      "ACCOUNT_OPENING_DATE                  0\n",
      "LAST_LOGIN                            0\n",
      "CUSTOMER_SEGMENT                      0\n",
      "ACCOUNT_TYPE                          0\n",
      "DEVICE_USED                           0\n",
      "NAME                                  0\n",
      "GENDER                                0\n",
      "DOB                                   0\n",
      "AGE                                   0\n",
      "CUSTOMER_ID                           0\n",
      "AGE_GROUP                             0\n",
      "AGE_OF_ACCOUNT                        0\n",
      "FREQUENCY_OF_TRANSACTIONS             0\n",
      "CUSTOMER_LOYALTY_SCORE                0\n",
      "NUMBER_OF_REFUNDS                     0\n",
      "NUMBER_OF_CHARGEBACKS                 0\n",
      "CREDIT_UTILIZATION_RATIO              0\n",
      "CHANGE_IN_SPENDING_BEHAVIOR           0\n",
      "TRANSACTION_VELOCITY                  0\n",
      "CUSTOMER_LOYALTY_CATEGORY             0\n",
      "TIME_SINCE_LAST_TRANSACTION           0\n",
      "TRANSACTION_ID                        0\n",
      "TIME                                  0\n",
      "TRANSACTION_AMOUNT                    0\n",
      "MERCHANT_RISK_SCORE                   0\n",
      "DISTANCE_FROM_HOME_ADDRESS            0\n",
      "DISTANCE_FROM_LAST_TRANSACTION        0\n",
      "TRANSACTION_DATE                      0\n",
      "TRANSACTION_TYPE                      0\n",
      "MERCHANT_CATEGORY                     0\n",
      "PAYMENT_METHOD                        0\n",
      "TIME_OF_DAY                           0\n",
      "DAY_OF_WEEK                           0\n",
      "TRANSACTION_STATUS                    0\n",
      "COUNTY                                0\n",
      "STATE                                 0\n",
      "CITY                                  0\n",
      "YEAR                                  0\n",
      "QUARTER                               0\n",
      "MONTH                                 0\n",
      "ANOMALY_SCORE                         0\n",
      "FRAUD_INDICATOR                       0\n",
      "SUSPICIOUS_FLAG                       0\n",
      "PREVIOUS_FRAUD_REPORTS                0\n",
      "CROSS_BORDER_TRANSACTION_INDICATOR    0\n",
      "NEW_DEVICE_INDICATOR                  0\n",
      "ANAMOLY_RISK_CATEGORY                 0\n",
      "MERCHANT_RISK_CATEGORY                0\n",
      "FRAUD_FLAG                            0\n",
      "dtype: int64\n"
     ]
    }
   ],
   "source": [
    "print(pandas_df.isnull().sum())"
   ]
  },
  {
   "cell_type": "code",
   "execution_count": null,
   "id": "314312fe-e702-4d9d-ba1d-078028152246",
   "metadata": {},
   "outputs": [],
   "source": []
  }
 ],
 "metadata": {
  "kernelspec": {
   "display_name": "Python 3 (ipykernel)",
   "language": "python",
   "name": "python3"
  },
  "language_info": {
   "codemirror_mode": {
    "name": "ipython",
    "version": 3
   },
   "file_extension": ".py",
   "mimetype": "text/x-python",
   "name": "python",
   "nbconvert_exporter": "python",
   "pygments_lexer": "ipython3",
   "version": "3.9.19"
  }
 },
 "nbformat": 4,
 "nbformat_minor": 5
}
