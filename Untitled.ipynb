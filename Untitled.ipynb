{
 "cells": [
  {
   "cell_type": "code",
   "execution_count": 1,
   "id": "14831d8a-839b-449c-b0c7-776578ca0961",
   "metadata": {},
   "outputs": [],
   "source": [
    "from fosforml.model_manager.snowflakesession import get_session\n",
    "my_session = get_session()"
   ]
  },
  {
   "cell_type": "code",
   "execution_count": 2,
   "id": "00fb5aa3-aae5-4147-86d0-c1e367c1e36c",
   "metadata": {},
   "outputs": [],
   "source": [
    "table_name = 'ATTRITION_MASTER_TABLE'"
   ]
  },
  {
   "cell_type": "code",
   "execution_count": 3,
   "id": "fad5bc0f-b7ac-4de6-bec7-a36154baa2a7",
   "metadata": {},
   "outputs": [],
   "source": [
    "sf_df = my_session.sql(\"select * from {}\".format(table_name))"
   ]
  },
  {
   "cell_type": "code",
   "execution_count": 4,
   "id": "18089a83-3938-4314-a34c-33324775a52e",
   "metadata": {},
   "outputs": [],
   "source": [
    "import pandas as pd\n",
    "pandas_df = sf_df.to_pandas()"
   ]
  },
  {
   "cell_type": "code",
   "execution_count": 5,
   "id": "62799a8b-f806-4e8a-8fd2-47ad56004a08",
   "metadata": {},
   "outputs": [
    {
     "name": "stdout",
     "output_type": "stream",
     "text": [
      "SALARY                                             0\n",
      "EMPLOYEE_ID                                        0\n",
      "JOB_SATISFACTION                                   0\n",
      "PERCENTAGE_SALARY_HIKE                             0\n",
      "PERFORMANCE_RATING                                 0\n",
      "OVER_TIME                                          0\n",
      "RELATIONSHIP_SATISFACTION                          0\n",
      "CHURN_STATUS_TABLE                                 0\n",
      "CHURN_VALUE_TABLE                                  0\n",
      "CITY                                               0\n",
      "DISTANCE                                           0\n",
      "DEGREE_CLEAN                                       0\n",
      "ETHNICITY                                          0\n",
      "MARITAL_STATUS                                     0\n",
      "ROLE                                               0\n",
      "COMPANY_NAME                                       0\n",
      "ORGANIZATION_TYPE                                  0\n",
      "ORGANIZATION_OWNERSHIP                             0\n",
      "STATE                                              0\n",
      "COUNTRY                                            0\n",
      "GENDER                                             0\n",
      "TENURE_MONTHS                                      0\n",
      "BIRTH_YEAR                                         0\n",
      "AGE                                                0\n",
      "SENIORITY                                          0\n",
      "SCHOOL_ENDDATE                                     0\n",
      "MONTHS_AFTER_COLLEGE                               0\n",
      "PEOPLE_JOINED_BEFORE_AND_LEFT_IN_THIS_MONTH        0\n",
      "PEOPLE_JOINED_AND_NEVER_LEFT                       0\n",
      "TOTAL_EMPLOYEE                                     0\n",
      "CHURN_OTHER                                        0\n",
      "RETENTION                                          0\n",
      "SUM_OF_TENURE                                      0\n",
      "SUM_OF_AGE                                         0\n",
      "JOB_STARTDATE                                      0\n",
      "JOB_ENDDATE                                    90076\n",
      "OVERTIME_HOURS                                     0\n",
      "WORK_LIFE_BALANCE                                  0\n",
      "BUSINESS_TRAVEL                                    0\n",
      "ENVIRONMENT_SATISFACTION                           0\n",
      "USER_ID                                            0\n",
      "dtype: int64\n"
     ]
    }
   ],
   "source": [
    "print(pandas_df.isnull().sum())"
   ]
  },
  {
   "cell_type": "code",
   "execution_count": 6,
   "id": "f8a14959-83cc-442d-b18d-4caed4b1d9ef",
   "metadata": {},
   "outputs": [],
   "source": [
    "Original_df = pandas_df.dropna()"
   ]
  },
  {
   "cell_type": "code",
   "execution_count": 7,
   "id": "8bae6416-2fa1-4d96-9c3c-91447e737d53",
   "metadata": {},
   "outputs": [
    {
     "name": "stdout",
     "output_type": "stream",
     "text": [
      "SALARY                                         0\n",
      "EMPLOYEE_ID                                    0\n",
      "JOB_SATISFACTION                               0\n",
      "PERCENTAGE_SALARY_HIKE                         0\n",
      "PERFORMANCE_RATING                             0\n",
      "OVER_TIME                                      0\n",
      "RELATIONSHIP_SATISFACTION                      0\n",
      "CHURN_STATUS_TABLE                             0\n",
      "CHURN_VALUE_TABLE                              0\n",
      "CITY                                           0\n",
      "DISTANCE                                       0\n",
      "DEGREE_CLEAN                                   0\n",
      "ETHNICITY                                      0\n",
      "MARITAL_STATUS                                 0\n",
      "ROLE                                           0\n",
      "COMPANY_NAME                                   0\n",
      "ORGANIZATION_TYPE                              0\n",
      "ORGANIZATION_OWNERSHIP                         0\n",
      "STATE                                          0\n",
      "COUNTRY                                        0\n",
      "GENDER                                         0\n",
      "TENURE_MONTHS                                  0\n",
      "BIRTH_YEAR                                     0\n",
      "AGE                                            0\n",
      "SENIORITY                                      0\n",
      "SCHOOL_ENDDATE                                 0\n",
      "MONTHS_AFTER_COLLEGE                           0\n",
      "PEOPLE_JOINED_BEFORE_AND_LEFT_IN_THIS_MONTH    0\n",
      "PEOPLE_JOINED_AND_NEVER_LEFT                   0\n",
      "TOTAL_EMPLOYEE                                 0\n",
      "CHURN_OTHER                                    0\n",
      "RETENTION                                      0\n",
      "SUM_OF_TENURE                                  0\n",
      "SUM_OF_AGE                                     0\n",
      "JOB_STARTDATE                                  0\n",
      "JOB_ENDDATE                                    0\n",
      "OVERTIME_HOURS                                 0\n",
      "WORK_LIFE_BALANCE                              0\n",
      "BUSINESS_TRAVEL                                0\n",
      "ENVIRONMENT_SATISFACTION                       0\n",
      "USER_ID                                        0\n",
      "dtype: int64\n"
     ]
    }
   ],
   "source": [
    "print(Original_df.isnull().sum())"
   ]
  },
  {
   "cell_type": "code",
   "execution_count": 10,
   "id": "c84f96b8-3e26-4d99-be12-69a1150a3a14",
   "metadata": {},
   "outputs": [],
   "source": [
    "from sklearn.model_selection import train_test_split\n",
    "\n",
    "x_train, x_test = train_test_split(Original_df, test_size=0.2)"
   ]
  },
  {
   "cell_type": "code",
   "execution_count": 11,
   "id": "308ae865-ac12-4c85-a184-68fd61f82a36",
   "metadata": {},
   "outputs": [
    {
     "data": {
      "text/plain": [
       "187787    1\n",
       "254295    0\n",
       "290064    0\n",
       "183781    1\n",
       "162886    0\n",
       "         ..\n",
       "175975    1\n",
       "75385     1\n",
       "155361    1\n",
       "125708    1\n",
       "295592    0\n",
       "Name: CHURN_VALUE_TABLE, Length: 167939, dtype: int8"
      ]
     },
     "execution_count": 11,
     "metadata": {},
     "output_type": "execute_result"
    }
   ],
   "source": [
    "y_train = x_train['CHURN_VALUE_TABLE']\n",
    "x_train = x_train.drop('CHURN_VALUE_TABLE',axis=1)\n",
    "y_train"
   ]
  },
  {
   "cell_type": "code",
   "execution_count": null,
   "id": "91bf9f79-d1c1-4c98-923b-bee0e796a37f",
   "metadata": {},
   "outputs": [],
   "source": []
  }
 ],
 "metadata": {
  "kernelspec": {
   "display_name": "Python 3 (ipykernel)",
   "language": "python",
   "name": "python3"
  },
  "language_info": {
   "codemirror_mode": {
    "name": "ipython",
    "version": 3
   },
   "file_extension": ".py",
   "mimetype": "text/x-python",
   "name": "python",
   "nbconvert_exporter": "python",
   "pygments_lexer": "ipython3",
   "version": "3.9.19"
  }
 },
 "nbformat": 4,
 "nbformat_minor": 5
}
