{
 "cells": [
  {
   "cell_type": "code",
   "execution_count": null,
   "id": "bf1fba9a-06e5-4b6d-b161-2dabcd549eb1",
   "metadata": {},
   "outputs": [],
   "source": []
  }
 ],
 "metadata": {
  "kernelspec": {
   "display_name": "",
   "name": ""
  },
  "language_info": {
   "name": ""
  }
 },
 "nbformat": 4,
 "nbformat_minor": 5
}
