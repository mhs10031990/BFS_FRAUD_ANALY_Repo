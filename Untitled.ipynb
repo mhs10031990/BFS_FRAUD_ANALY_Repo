{
 "cells": [
  {
   "cell_type": "code",
   "execution_count": null,
   "id": "dc271aaa-bb16-4569-9125-3c88704fa289",
   "metadata": {},
   "outputs": [],
   "source": [
    "!pip install --q seaborn"
   ]
  },
  {
   "cell_type": "code",
   "execution_count": null,
   "id": "6039b2bf-ee9b-4ae6-ac29-16913b1bfe57",
   "metadata": {},
   "outputs": [],
   "source": [
    "!pip install fosforml"
   ]
  },
  {
   "cell_type": "code",
   "execution_count": 7,
   "id": "886eb0d1-7671-4e7f-bfda-dcbe6cc517d9",
   "metadata": {},
   "outputs": [],
   "source": [
    "from snowflake.snowpark import Session\n",
    "from snowflake.connector.pandas_tools import write_pandas\n",
    "# Data Science Lbs\n",
    "import numpy as np\n",
    "import pandas as pd\n",
    "import matplotlib.pyplot as plt\n",
    "import seaborn as sns\n",
    "\n",
    "import warnings; warnings.simplefilter('ignore')\n",
    "import configparser\n",
    "\n",
    "from fosforio import snowflake"
   ]
  },
  {
   "cell_type": "code",
   "execution_count": 1,
   "id": "a2dd00e4-8c30-4056-9bc5-2f4fa4cfe9e6",
   "metadata": {},
   "outputs": [],
   "source": [
    "from fosforml.model_manager.snowflakesession import get_session\n",
    "my_session = get_session()"
   ]
  },
  {
   "cell_type": "code",
   "execution_count": 2,
   "id": "f35da18e-b012-4026-99af-b0c9ed1e1f98",
   "metadata": {},
   "outputs": [],
   "source": [
    "table_name = 'FRAUD_DETECTION_ANALY_MASTER_TABLE'"
   ]
  },
  {
   "cell_type": "code",
   "execution_count": null,
   "id": "6576cb6f-a3d7-4bbd-8505-6eb53e360963",
   "metadata": {},
   "outputs": [],
   "source": [
    "sf_df = my_session.sql(\"select * from {}\".format(table_name))"
   ]
  },
  {
   "cell_type": "code",
   "execution_count": null,
   "id": "c314144d-3ab4-45fd-b1c7-2a2df5022e93",
   "metadata": {},
   "outputs": [],
   "source": [
    "!pip install fosforio"
   ]
  },
  {
   "cell_type": "code",
   "execution_count": 3,
   "id": "428a7121-cc98-4f17-8020-000b6693f53a",
   "metadata": {},
   "outputs": [
    {
     "name": "stdout",
     "output_type": "stream",
     "text": [
      "Connection manager service url initialised to http://fdc-project-manager:80/project-manager\n",
      "If you need to update its value then update the variable CONNECTION_MANAGER_BASE_URL in os env.\n",
      "Exception occurred in reading data_frame from snowflake connection: HTTPConnectionPool(host='fdc-project-manager', port=80): Max retries exceeded with url: /project-manager/connections/api/External/v2/external/getConnConfig/FRAUD_DETECTION_ANALY_MASTER_TABLE/fdcuser/6fc68098-bd6f-43f3-a7a9-211b3210def1 (Caused by NewConnectionError('<urllib3.connection.HTTPConnection object at 0x7f37b2481460>: Failed to establish a new connection: [Errno -2] Name or service not known'))\n"
     ]
    }
   ],
   "source": [
    "from fosforio import snowflake\n",
    "Fraud_train  = snowflake.get_dataframe(\"FRAUD_DETECTION_ANALY_MASTER_TABLE\")"
   ]
  },
  {
   "cell_type": "code",
   "execution_count": 4,
   "id": "532e69a1-e3a6-41d4-aaf6-641986c87aac",
   "metadata": {},
   "outputs": [
    {
     "name": "stdout",
     "output_type": "stream",
     "text": [
      "Exception occurred in getting snowflake connection: HTTPConnectionPool(host='fdc-project-manager', port=80): Max retries exceeded with url: /project-manager/connections/api/ConnectionManager/v1/connections?connectionType=snowflake&name=FRAUD_DETECTION_ANALY_MASTER_TABLE (Caused by NewConnectionError('<urllib3.connection.HTTPConnection object at 0x7f37b2481700>: Failed to establish a new connection: [Errno -2] Name or service not known'))\n"
     ]
    }
   ],
   "source": [
    "snowflake.get_connection(connection_name=\"FRAUD_DETECTION_ANALY_MASTER_TABLE\")"
   ]
  },
  {
   "cell_type": "code",
   "execution_count": 5,
   "id": "c2824e1f-9032-48ba-b20f-1fcba835c052",
   "metadata": {},
   "outputs": [
    {
     "name": "stdout",
     "output_type": "stream",
     "text": [
      "Exception occurred in reading data_frame from snowflake connection: HTTPConnectionPool(host='fdc-project-manager', port=80): Max retries exceeded with url: /project-manager/connections/api/External/v2/external/getConnConfig/FRAUD_DETECTION_ANALY_MASTER_TABLE/fdcuser/6fc68098-bd6f-43f3-a7a9-211b3210def1 (Caused by NewConnectionError('<urllib3.connection.HTTPConnection object at 0x7f37b24816a0>: Failed to establish a new connection: [Errno -2] Name or service not known'))\n"
     ]
    }
   ],
   "source": [
    "Fraud_train  = snowflake.get_dataframe(\"FRAUD_DETECTION_ANALY_MASTER_TABLE\")"
   ]
  },
  {
   "cell_type": "code",
   "execution_count": 8,
   "id": "a67b27f7-b468-4cf8-b038-e8d422ceff02",
   "metadata": {},
   "outputs": [
    {
     "ename": "AttributeError",
     "evalue": "'NoneType' object has no attribute 'shape'",
     "output_type": "error",
     "traceback": [
      "\u001b[0;31m---------------------------------------------------------------------------\u001b[0m",
      "\u001b[0;31mAttributeError\u001b[0m                            Traceback (most recent call last)",
      "Cell \u001b[0;32mIn[8], line 1\u001b[0m\n\u001b[0;32m----> 1\u001b[0m \u001b[38;5;28mprint\u001b[39m(\u001b[38;5;124m\"\u001b[39m\u001b[38;5;124mFraud_train -  rows:\u001b[39m\u001b[38;5;124m\"\u001b[39m,\u001b[43mFraud_train\u001b[49m\u001b[38;5;241;43m.\u001b[39;49m\u001b[43mshape\u001b[49m[\u001b[38;5;241m0\u001b[39m],\u001b[38;5;124m\"\u001b[39m\u001b[38;5;124m columns:\u001b[39m\u001b[38;5;124m\"\u001b[39m, Fraud_train\u001b[38;5;241m.\u001b[39mshape[\u001b[38;5;241m1\u001b[39m])\n",
      "\u001b[0;31mAttributeError\u001b[0m: 'NoneType' object has no attribute 'shape'"
     ]
    }
   ],
   "source": [
    "print(\"Fraud_train -  rows:\",Fraud_train.shape[0],\" columns:\", Fraud_train.shape[1])"
   ]
  },
  {
   "cell_type": "code",
   "execution_count": null,
   "id": "4e9f4791-7aa7-4aff-b5f1-52a956fc6a21",
   "metadata": {},
   "outputs": [],
   "source": []
  }
 ],
 "metadata": {
  "kernelspec": {
   "display_name": "Python 3 (ipykernel)",
   "language": "python",
   "name": "python3"
  },
  "language_info": {
   "codemirror_mode": {
    "name": "ipython",
    "version": 3
   },
   "file_extension": ".py",
   "mimetype": "text/x-python",
   "name": "python",
   "nbconvert_exporter": "python",
   "pygments_lexer": "ipython3",
   "version": "3.9.19"
  }
 },
 "nbformat": 4,
 "nbformat_minor": 5
}
