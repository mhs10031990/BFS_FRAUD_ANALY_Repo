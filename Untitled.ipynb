{
 "cells": [
  {
   "cell_type": "code",
   "execution_count": null,
   "id": "afc2cb91-5089-4e9b-8b3e-42cd1c442c7c",
   "metadata": {},
   "outputs": [
    {
     "name": "stdout",
     "output_type": "stream",
     "text": [
      "\u001b[33mWARNING: You are using pip version 19.3.1; however, version 24.2 is available.\n",
      "You should consider upgrading via the 'pip install --upgrade pip' command.\u001b[0m\n",
      "\u001b[31mERROR: snowflake-snowpark-python 1.21.1 has requirement cloudpickle!=2.1.0,!=2.2.0,<=2.2.1,>=1.6.0; python_version < \"3.11\", but you'll have cloudpickle 3.0.0 which is incompatible.\u001b[0m\n"
     ]
    }
   ],
   "source": [
    "!pip install --q \"snowflake-connector-python[pandas]\"\n",
    "!sudo pip install --q snowflake-ml-python==1.0.11 -U\n",
    "!pip install --upgrade --q snowflake-snowpark-python==1.9.0\n",
    "!pip install --q seaborn\n",
    "!pip install --q plotly\n",
    "!pip install --upgrade --q numpy==1.24.3\n",
    "!pip install --upgrade --q pandas==1.5.3\n",
    "!pip install fosforio"
   ]
  },
  {
   "cell_type": "code",
   "execution_count": null,
   "id": "e8bd34f0-6296-4631-b067-7ee72271d1fc",
   "metadata": {},
   "outputs": [],
   "source": []
  }
 ],
 "metadata": {
  "kernelspec": {
   "display_name": "Python 3 (ipykernel)",
   "language": "python",
   "name": "python3"
  },
  "language_info": {
   "codemirror_mode": {
    "name": "ipython",
    "version": 3
   },
   "file_extension": ".py",
   "mimetype": "text/x-python",
   "name": "python",
   "nbconvert_exporter": "python",
   "pygments_lexer": "ipython3",
   "version": "3.9.19"
  }
 },
 "nbformat": 4,
 "nbformat_minor": 5
}
