{
 "cells": [
  {
   "cell_type": "code",
   "execution_count": null,
   "id": "afc2cb91-5089-4e9b-8b3e-42cd1c442c7c",
   "metadata": {},
   "outputs": [],
   "source": [
    "!pip install --upgrade pip\n",
    "!pip install fosforml numpy pandas matplotlib scikit-learn seaborn python-dateutil\n",
    "!pip uninstall urllib3 -y\n",
    "!pip install urllib3==1.26.15\n",
    "!pip install fosforml \n",
    "!pip install fosforio\n",
    "!pip install -U cloudpickle"
   ]
  },
  {
   "cell_type": "code",
   "execution_count": 1,
   "id": "e8bd34f0-6296-4631-b067-7ee72271d1fc",
   "metadata": {},
   "outputs": [],
   "source": [
    "from snowflake.snowpark import Session\n",
    "from snowflake.connector.pandas_tools import write_pandas\n",
    "\n",
    "# Data Science Libs\n",
    "import numpy as np\n",
    "import pandas as pd\n",
    "import matplotlib.pyplot as plt\n",
    "import seaborn as sns\n",
    "\n",
    "# create_temp_table warning suppresion\n",
    "import warnings; warnings.simplefilter('ignore')"
   ]
  },
  {
   "cell_type": "code",
   "execution_count": 2,
   "id": "5032f43e-1f96-4eb2-bdc3-991b8dc8c8e5",
   "metadata": {},
   "outputs": [
    {
     "name": "stdout",
     "output_type": "stream",
     "text": [
      "Connection manager service url initialised to http://fdc-project-manager:80/project-manager\n",
      "If you need to update its value then update the variable CONNECTION_MANAGER_BASE_URL in os env.\n"
     ]
    }
   ],
   "source": [
    "from fosforio import snowflake"
   ]
  },
  {
   "cell_type": "code",
   "execution_count": 3,
   "id": "d0d9a24e-129c-4d4a-8c4f-859d9aca1452",
   "metadata": {},
   "outputs": [],
   "source": [
    "from fosforml.model_manager.snowflakesession import get_session\n",
    "\n",
    "my_session = get_session()"
   ]
  },
  {
   "cell_type": "code",
   "execution_count": 4,
   "id": "0dbbd0f7-6bc8-4954-886a-27681a42f04d",
   "metadata": {},
   "outputs": [],
   "source": [
    "df = 'FRAUD_DETECTION_ANALY_MASTER_TABLE'"
   ]
  },
  {
   "cell_type": "code",
   "execution_count": 5,
   "id": "6bea2483-b8f9-4c8d-8f9e-26bca25f3ab3",
   "metadata": {},
   "outputs": [],
   "source": [
    "sf_df = my_session.sql(\"select * from {}\".format(df))"
   ]
  },
  {
   "cell_type": "code",
   "execution_count": 6,
   "id": "1507b1ff-24c5-4dfd-bc05-004cb7c830af",
   "metadata": {},
   "outputs": [],
   "source": [
    "import pandas as pd\n",
    "pandas_df = sf_df.to_pandas()"
   ]
  },
  {
   "cell_type": "code",
   "execution_count": 7,
   "id": "49cae72e-6bc2-431e-ae76-ef03845e95bb",
   "metadata": {},
   "outputs": [
    {
     "name": "stdout",
     "output_type": "stream",
     "text": [
      "CREDIT_LIMIT                          0\n",
      "ACCOUNT_OPENING_DATE                  0\n",
      "LAST_LOGIN                            0\n",
      "CUSTOMER_SEGMENT                      0\n",
      "ACCOUNT_TYPE                          0\n",
      "DEVICE_USED                           0\n",
      "NAME                                  0\n",
      "GENDER                                0\n",
      "DOB                                   0\n",
      "AGE                                   0\n",
      "CUSTOMER_ID                           0\n",
      "AGE_GROUP                             0\n",
      "AGE_OF_ACCOUNT                        0\n",
      "FREQUENCY_OF_TRANSACTIONS             0\n",
      "CUSTOMER_LOYALTY_SCORE                0\n",
      "NUMBER_OF_REFUNDS                     0\n",
      "NUMBER_OF_CHARGEBACKS                 0\n",
      "CREDIT_UTILIZATION_RATIO              0\n",
      "CHANGE_IN_SPENDING_BEHAVIOR           0\n",
      "TRANSACTION_VELOCITY                  0\n",
      "CUSTOMER_LOYALTY_CATEGORY             0\n",
      "TIME_SINCE_LAST_TRANSACTION           0\n",
      "TRANSACTION_ID                        0\n",
      "TIME                                  0\n",
      "TRANSACTION_AMOUNT                    0\n",
      "MERCHANT_RISK_SCORE                   0\n",
      "DISTANCE_FROM_HOME_ADDRESS            0\n",
      "DISTANCE_FROM_LAST_TRANSACTION        0\n",
      "TRANSACTION_DATE                      0\n",
      "TRANSACTION_TYPE                      0\n",
      "MERCHANT_CATEGORY                     0\n",
      "PAYMENT_METHOD                        0\n",
      "TIME_OF_DAY                           0\n",
      "DAY_OF_WEEK                           0\n",
      "TRANSACTION_STATUS                    0\n",
      "COUNTY                                0\n",
      "STATE                                 0\n",
      "CITY                                  0\n",
      "YEAR                                  0\n",
      "QUARTER                               0\n",
      "MONTH                                 0\n",
      "ANOMALY_SCORE                         0\n",
      "FRAUD_INDICATOR                       0\n",
      "SUSPICIOUS_FLAG                       0\n",
      "PREVIOUS_FRAUD_REPORTS                0\n",
      "CROSS_BORDER_TRANSACTION_INDICATOR    0\n",
      "NEW_DEVICE_INDICATOR                  0\n",
      "ANAMOLY_RISK_CATEGORY                 0\n",
      "MERCHANT_RISK_CATEGORY                0\n",
      "FRAUD_FLAG                            0\n",
      "dtype: int64\n"
     ]
    }
   ],
   "source": [
    "print(pandas_df.isnull().sum())"
   ]
  },
  {
   "cell_type": "code",
   "execution_count": null,
   "id": "0f4604a9-d17d-4d73-99bb-2bf86a9606da",
   "metadata": {},
   "outputs": [],
   "source": []
  }
 ],
 "metadata": {
  "kernelspec": {
   "display_name": "Python 3 (ipykernel)",
   "language": "python",
   "name": "python3"
  },
  "language_info": {
   "codemirror_mode": {
    "name": "ipython",
    "version": 3
   },
   "file_extension": ".py",
   "mimetype": "text/x-python",
   "name": "python",
   "nbconvert_exporter": "python",
   "pygments_lexer": "ipython3",
   "version": "3.9.19"
  }
 },
 "nbformat": 4,
 "nbformat_minor": 5
}
