{
 "cells": [
  {
   "cell_type": "code",
   "execution_count": null,
   "id": "dc271aaa-bb16-4569-9125-3c88704fa289",
   "metadata": {},
   "outputs": [],
   "source": [
    "!pip install --q seaborn"
   ]
  },
  {
   "cell_type": "code",
   "execution_count": null,
   "id": "6039b2bf-ee9b-4ae6-ac29-16913b1bfe57",
   "metadata": {},
   "outputs": [],
   "source": [
    "!pip install fosforml"
   ]
  },
  {
   "cell_type": "code",
   "execution_count": 1,
   "id": "a2dd00e4-8c30-4056-9bc5-2f4fa4cfe9e6",
   "metadata": {},
   "outputs": [],
   "source": [
    "from fosforml.model_manager.snowflakesession import get_session\n",
    "my_session = get_session()"
   ]
  },
  {
   "cell_type": "code",
   "execution_count": 2,
   "id": "f35da18e-b012-4026-99af-b0c9ed1e1f98",
   "metadata": {},
   "outputs": [],
   "source": [
    "table_name = 'FRAUD_DETECTION_ANALY_MASTER_TABLE'"
   ]
  },
  {
   "cell_type": "code",
   "execution_count": null,
   "id": "6576cb6f-a3d7-4bbd-8505-6eb53e360963",
   "metadata": {},
   "outputs": [],
   "source": [
    "sf_df = my_session.sql(\"select * from {}\".format(table_name))"
   ]
  },
  {
   "cell_type": "code",
   "execution_count": null,
   "id": "c314144d-3ab4-45fd-b1c7-2a2df5022e93",
   "metadata": {},
   "outputs": [],
   "source": [
    "!pip install fosforio"
   ]
  },
  {
   "cell_type": "code",
   "execution_count": 3,
   "id": "428a7121-cc98-4f17-8020-000b6693f53a",
   "metadata": {},
   "outputs": [
    {
     "name": "stdout",
     "output_type": "stream",
     "text": [
      "Connection manager service url initialised to http://fdc-project-manager:80/project-manager\n",
      "If you need to update its value then update the variable CONNECTION_MANAGER_BASE_URL in os env.\n",
      "Exception occurred in reading data_frame from snowflake connection: HTTPConnectionPool(host='fdc-project-manager', port=80): Max retries exceeded with url: /project-manager/connections/api/External/v2/external/getConnConfig/FRAUD_DETECTION_ANALY_MASTER_TABLE/fdcuser/6fc68098-bd6f-43f3-a7a9-211b3210def1 (Caused by NewConnectionError('<urllib3.connection.HTTPConnection object at 0x7f37b2481460>: Failed to establish a new connection: [Errno -2] Name or service not known'))\n"
     ]
    }
   ],
   "source": [
    "from fosforio import snowflake\n",
    "Fraud_train  = snowflake.get_dataframe(\"FRAUD_DETECTION_ANALY_MASTER_TABLE\")"
   ]
  },
  {
   "cell_type": "code",
   "execution_count": 4,
   "id": "532e69a1-e3a6-41d4-aaf6-641986c87aac",
   "metadata": {},
   "outputs": [
    {
     "name": "stdout",
     "output_type": "stream",
     "text": [
      "Exception occurred in getting snowflake connection: HTTPConnectionPool(host='fdc-project-manager', port=80): Max retries exceeded with url: /project-manager/connections/api/ConnectionManager/v1/connections?connectionType=snowflake&name=FRAUD_DETECTION_ANALY_MASTER_TABLE (Caused by NewConnectionError('<urllib3.connection.HTTPConnection object at 0x7f37b2481700>: Failed to establish a new connection: [Errno -2] Name or service not known'))\n"
     ]
    }
   ],
   "source": [
    "snowflake.get_connection(connection_name=\"FRAUD_DETECTION_ANALY_MASTER_TABLE\")"
   ]
  },
  {
   "cell_type": "code",
   "execution_count": null,
   "id": "c2824e1f-9032-48ba-b20f-1fcba835c052",
   "metadata": {},
   "outputs": [],
   "source": []
  }
 ],
 "metadata": {
  "kernelspec": {
   "display_name": "Python 3 (ipykernel)",
   "language": "python",
   "name": "python3"
  },
  "language_info": {
   "codemirror_mode": {
    "name": "ipython",
    "version": 3
   },
   "file_extension": ".py",
   "mimetype": "text/x-python",
   "name": "python",
   "nbconvert_exporter": "python",
   "pygments_lexer": "ipython3",
   "version": "3.9.19"
  }
 },
 "nbformat": 4,
 "nbformat_minor": 5
}
